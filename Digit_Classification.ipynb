{
  "cells": [
    {
      "cell_type": "markdown",
      "metadata": {
        "id": "L9oca-cOJAx9"
      },
      "source": [
        "# Projekt - klasifikacija znamenki"
      ]
    },
    {
      "cell_type": "markdown",
      "metadata": {
        "id": "xe2ptBqrJrMf"
      },
      "source": [
        "## OPIS PROBLEMA\n",
        "\n",
        "Ovaj projekt pokazuje kako se scikit-learn može koristiti za prepoznavanje slika rukom napisanih znamenki, od 0-9.\n",
        "\n",
        "* Klasifikacija znamenki\n",
        "\n"
      ]
    },
    {
      "cell_type": "code",
      "execution_count": 1,
      "metadata": {
        "id": "cpJoAgxk46Lf"
      },
      "outputs": [],
      "source": [
        "# pakete i biblioteke koje smo koristili te dataset\n",
        "\n",
        "from sklearn import datasets\n",
        "import numpy as np\n",
        "import matplotlib.pyplot as plt\n",
        "%matplotlib inline\n",
        "\n",
        "digits = datasets.load_digits()"
      ]
    },
    {
      "cell_type": "code",
      "execution_count": 2,
      "metadata": {
        "colab": {
          "base_uri": "https://localhost:8080/",
          "height": 368
        },
        "id": "0sD3nzQt8Ksl",
        "outputId": "223de1db-1ec7-4e7c-b62b-5dedfe29e2ad"
      },
      "outputs": [
        {
          "output_type": "display_data",
          "data": {
            "text/plain": [
              "<Figure size 1440x576 with 24 Axes>"
            ],
            "image/png": "[encoded data removed]"
          },
          "metadata": {
            "needs_background": "light"
          }
        }
      ],
      "source": [
        "# Prikazat nekoliko slika i ispis pripadajućih oznakama.\n",
        "plt.figure(figsize=(20,8))\n",
        "for i in range(24):\n",
        "  plt.subplot(4,8, i +1)\n",
        "  plt.imshow(digits.images[i], cmap = 'gray')\n",
        "  plt.axis('off')\n",
        "  plt.title(digits.target[i])"
      ]
    },
    {
      "cell_type": "code",
      "execution_count": 3,
      "metadata": {
        "colab": {
          "base_uri": "https://localhost:8080/"
        },
        "id": "N8C-RcSLPxfj",
        "outputId": "0fb7b6d2-4919-47bf-8523-3cd96aed06bc"
      },
      "outputs": [
        {
          "output_type": "execute_result",
          "data": {
            "text/plain": [
              "(1797, 8, 8)"
            ]
          },
          "metadata": {},
          "execution_count": 3
        }
      ],
      "source": [
        "digits.images.shape"
      ]
    },
    {
      "cell_type": "code",
      "execution_count": 4,
      "metadata": {
        "colab": {
          "base_uri": "https://localhost:8080/"
        },
        "id": "ewkYIE5RFGxB",
        "outputId": "accd22b9-813f-40f0-80d7-499199eee4d9"
      },
      "outputs": [
        {
          "output_type": "execute_result",
          "data": {
            "text/plain": [
              "(1797, 64)"
            ]
          },
          "metadata": {},
          "execution_count": 4
        }
      ],
      "source": [
        "# Da bismo primijenili klasifikator na ove podatke, moramo izravnati slike, \n",
        "# pretvarajući svaki 2-D niz vrijednosti oblika (8, 8) u oblik (64,).\n",
        "\n",
        "data = digits.images.reshape((len(digits.images), -1))\n",
        "\n",
        "data.shape"
      ]
    },
    {
      "cell_type": "code",
      "execution_count": 5,
      "metadata": {
        "id": "QWHbGaQyM-Xd"
      },
      "outputs": [],
      "source": [
        "# Podjela na train i test skupove\n",
        "from sklearn.model_selection import train_test_split\n",
        "\n",
        "X_train, X_test, y_train, y_test = train_test_split(data, digits.target, test_size=0.2, random_state=42)"
      ]
    },
    {
      "cell_type": "code",
      "execution_count": 6,
      "metadata": {
        "id": "NvtPmZ83Bbug"
      },
      "outputs": [],
      "source": [
        "# koje modele cemo koristi smo pronasli pomocu ove poveznice: https://scikit-learn.org/stable/tutorial/machine_learning_map/index.html\n",
        "\n",
        "# algoritmi koje cemo testirati\n",
        "from sklearn.linear_model import LogisticRegression, SGDClassifier\n",
        "from sklearn.svm import SVC\n",
        "from sklearn.svm import LinearSVC\n",
        "from sklearn.ensemble import GradientBoostingClassifier, RandomForestClassifier\n",
        "from sklearn.neighbors import KNeighborsClassifier\n",
        "from sklearn.naive_bayes import GaussianNB\n",
        "from sklearn.tree import DecisionTreeClassifier"
      ]
    },
    {
      "cell_type": "code",
      "execution_count": 7,
      "metadata": {
        "id": "om6_z89RCA3k"
      },
      "outputs": [],
      "source": [
        "from sklearn.metrics import accuracy_score, precision_score, recall_score, f1_score\n",
        "\n",
        "np.random.seed(42)\n",
        "\n",
        "# Funkcija za fittanje algoritma, predviđanje i evaluaciju:\n",
        "def run_algorithm (algorithm, X_train, X_test, y_train, y_test):\n",
        "    \n",
        "    model = algorithm.fit(X_train, y_train)\n",
        "    predictions = model.predict(X_test)\n",
        "    acc = accuracy_score(y_test, predictions)\n",
        "    prec = precision_score(y_test, predictions, average='micro')\n",
        "    rec = recall_score(y_test, predictions, average='micro')\n",
        "    f1 = f1_score(y_test, predictions, average='micro')\n",
        "    \n",
        "    return model, acc, prec, rec, f1"
      ]
    },
    {
      "cell_type": "code",
      "execution_count": 8,
      "metadata": {
        "id": "f-JhOQkCL6IO"
      },
      "outputs": [],
      "source": [
        "from pandas.core.common import random_state\n",
        "# Algoritmi koje ćemo testirati\n",
        "algorithms = [\n",
        "              LogisticRegression(random_state=42),\n",
        "              SVC(random_state=42, gamma=0.001),\n",
        "              SGDClassifier(random_state=42),\n",
        "              LinearSVC(random_state=42, dual=False),\n",
        "              GradientBoostingClassifier(random_state=42),\n",
        "              RandomForestClassifier(random_state=42),\n",
        "              KNeighborsClassifier(),\n",
        "              GaussianNB(),\n",
        "              DecisionTreeClassifier(random_state=42),\n",
        "            ]\n",
        "\n",
        "# funkcija za ispis rezulata modela \n",
        "def print_result(result):  \n",
        "   print(result[0])\n",
        "   print(\"Accuracy: \", result[1])\n",
        "   print(\"Precision: \", result[2])\n",
        "   print(\"Recall: \", result[3])\n",
        "   print(\"F1 score: \", result[4], \"\\n\")"
      ]
    },
    {
      "cell_type": "code",
      "execution_count": 9,
      "metadata": {
        "colab": {
          "base_uri": "https://localhost:8080/"
        },
        "id": "uSeajLEMMpVU",
        "outputId": "7849f6f8-c8c8-4885-dcf8-28b5b6742389"
      },
      "outputs": [
        {
          "output_type": "stream",
          "name": "stderr",
          "text": [
            "/usr/local/lib/python3.7/dist-packages/sklearn/linear_model/_logistic.py:818: ConvergenceWarning: lbfgs failed to converge (status=1):\n",
            "STOP: TOTAL NO. of ITERATIONS REACHED LIMIT.\n",
            "\n",
            "Increase the number of iterations (max_iter) or scale the data as shown in:\n",
            "    https://scikit-learn.org/stable/modules/preprocessing.html\n",
            "Please also refer to the documentation for alternative solver options:\n",
            "    https://scikit-learn.org/stable/modules/linear_model.html#logistic-regression\n",
            "  extra_warning_msg=_LOGISTIC_SOLVER_CONVERGENCE_MSG,\n"
          ]
        }
      ],
      "source": [
        "algorithm_results = []\n",
        "np.random.seed(42)\n",
        "\n",
        "# Iteriramo kroz listu algoritama i spremamo rezultate u gornju listu\n",
        "for algorithm_name in algorithms:\n",
        "    model, acc, prec, rec, f1 = run_algorithm (algorithm_name, X_train, X_test, y_train, y_test)\n",
        "    result = (model, acc, prec, rec, f1)\n",
        "    algorithm_results.append(result)\n",
        " \n",
        "# Sortiranje liste po F1-score silazno\n",
        "def sort_key(f1):\n",
        "    return f1[2]\n",
        "\n",
        "algorithm_results.sort(key = sort_key, reverse=True)"
      ]
    },
    {
      "cell_type": "markdown",
      "metadata": {
        "id": "TncbVL4yuqgv"
      },
      "source": [
        "## Top 5 modela"
      ]
    },
    {
      "cell_type": "code",
      "execution_count": 10,
      "metadata": {
        "colab": {
          "base_uri": "https://localhost:8080/"
        },
        "id": "3R4q9janZeBY",
        "outputId": "bf248c95-ba34-4adc-9f5c-8304d7e424b7"
      },
      "outputs": [
        {
          "output_type": "stream",
          "name": "stdout",
          "text": [
            "SVC(gamma=0.001, random_state=42)\n",
            "Accuracy:  0.9888888888888889\n",
            "Precision:  0.9888888888888889\n",
            "Recall:  0.9888888888888889\n",
            "F1 score:  0.9888888888888889 \n",
            "\n",
            "KNeighborsClassifier()\n",
            "Accuracy:  0.9861111111111112\n",
            "Precision:  0.9861111111111112\n",
            "Recall:  0.9861111111111112\n",
            "F1 score:  0.9861111111111112 \n",
            "\n",
            "RandomForestClassifier(random_state=42)\n",
            "Accuracy:  0.9722222222222222\n",
            "Precision:  0.9722222222222222\n",
            "Recall:  0.9722222222222222\n",
            "F1 score:  0.9722222222222222 \n",
            "\n",
            "LogisticRegression(random_state=42)\n",
            "Accuracy:  0.9694444444444444\n",
            "Precision:  0.9694444444444444\n",
            "Recall:  0.9694444444444444\n",
            "F1 score:  0.9694444444444444 \n",
            "\n",
            "GradientBoostingClassifier(random_state=42)\n",
            "Accuracy:  0.9694444444444444\n",
            "Precision:  0.9694444444444444\n",
            "Recall:  0.9694444444444444\n",
            "F1 score:  0.9694444444444444 \n",
            "\n"
          ]
        }
      ],
      "source": [
        "for alg in algorithm_results[:5]:\n",
        "  print_result(alg)"
      ]
    },
    {
      "cell_type": "markdown",
      "metadata": {
        "id": "3TpTmj13u_Zv"
      },
      "source": [
        "Najbolje rezulate daju `SVC`, `KNeighborsClassifier` i `RandomForestClassifier` te cemo dalje mijenjati hiperparametre samo na njima.\n",
        "\n",
        "# Hyperparameters"
      ]
    },
    {
      "cell_type": "markdown",
      "metadata": {
        "id": "lt7dnRSHw9qn"
      },
      "source": [
        "##SVC"
      ]
    },
    {
      "cell_type": "code",
      "execution_count": 11,
      "metadata": {
        "colab": {
          "base_uri": "https://localhost:8080/"
        },
        "id": "U4zqdaoyvX-3",
        "outputId": "18956308-a17b-4424-f4c4-536c0e1e5393"
      },
      "outputs": [
        {
          "output_type": "stream",
          "name": "stdout",
          "text": [
            "Fitting 5 folds for each of 144 candidates, totalling 720 fits\n",
            "[CV] END ........C=0.1, degree=0, gamma=0.001, kernel=linear; total time=   0.1s\n",
            "[CV] END ........C=0.1, degree=0, gamma=0.001, kernel=linear; total time=   0.1s\n",
            "[CV] END ........C=0.1, degree=0, gamma=0.001, kernel=linear; total time=   0.1s\n",
            "[CV] END ........C=0.1, degree=0, gamma=0.001, kernel=linear; total time=   0.0s\n",
            "[CV] END ........C=0.1, degree=0, gamma=0.001, kernel=linear; total time=   0.0s\n",
            "[CV] END ...........C=0.1, degree=0, gamma=0.001, kernel=rbf; total time=   0.3s\n",
            "[CV] END ...........C=0.1, degree=0, gamma=0.001, kernel=rbf; total time=   0.3s\n",
            "[CV] END ...........C=0.1, degree=0, gamma=0.001, kernel=rbf; total time=   0.3s\n",
            "[CV] END ...........C=0.1, degree=0, gamma=0.001, kernel=rbf; total time=   0.5s\n",
            "[CV] END ...........C=0.1, degree=0, gamma=0.001, kernel=rbf; total time=   0.5s\n",
            "[CV] END ..........C=0.1, degree=0, gamma=0.001, kernel=poly; total time=   0.2s\n",
            "[CV] END ..........C=0.1, degree=0, gamma=0.001, kernel=poly; total time=   0.2s\n",
            "[CV] END ..........C=0.1, degree=0, gamma=0.001, kernel=poly; total time=   0.3s\n",
            "[CV] END ..........C=0.1, degree=0, gamma=0.001, kernel=poly; total time=   0.3s\n",
            "[CV] END ..........C=0.1, degree=0, gamma=0.001, kernel=poly; total time=   0.3s\n",
            "[CV] END .......C=0.1, degree=0, gamma=0.001, kernel=sigmoid; total time=   0.5s\n",
            "[CV] END .......C=0.1, degree=0, gamma=0.001, kernel=sigmoid; total time=   0.4s\n",
            "[CV] END .......C=0.1, degree=0, gamma=0.001, kernel=sigmoid; total time=   0.4s\n",
            "[CV] END .......C=0.1, degree=0, gamma=0.001, kernel=sigmoid; total time=   0.7s\n",
            "[CV] END .......C=0.1, degree=0, gamma=0.001, kernel=sigmoid; total time=   0.4s\n",
            "[CV] END .........C=0.1, degree=0, gamma=0.01, kernel=linear; total time=   0.1s\n",
            "[CV] END .........C=0.1, degree=0, gamma=0.01, kernel=linear; total time=   0.1s\n",
            "[CV] END .........C=0.1, degree=0, gamma=0.01, kernel=linear; total time=   0.1s\n",
            "[CV] END .........C=0.1, degree=0, gamma=0.01, kernel=linear; total time=   0.1s\n",
            "[CV] END .........C=0.1, degree=0, gamma=0.01, kernel=linear; total time=   0.1s\n",
            "[CV] END ............C=0.1, degree=0, gamma=0.01, kernel=rbf; total time=   0.5s\n",
            "[CV] END ............C=0.1, degree=0, gamma=0.01, kernel=rbf; total time=   0.4s\n",
            "[CV] END ............C=0.1, degree=0, gamma=0.01, kernel=rbf; total time=   0.4s\n",
            "[CV] END ............C=0.1, degree=0, gamma=0.01, kernel=rbf; total time=   0.6s\n",
            "[CV] END ............C=0.1, degree=0, gamma=0.01, kernel=rbf; total time=   0.4s\n",
            "[CV] END ...........C=0.1, degree=0, gamma=0.01, kernel=poly; total time=   0.3s\n",
            "[CV] END ...........C=0.1, degree=0, gamma=0.01, kernel=poly; total time=   0.3s\n",
            "[CV] END ...........C=0.1, degree=0, gamma=0.01, kernel=poly; total time=   0.2s\n",
            "[CV] END ...........C=0.1, degree=0, gamma=0.01, kernel=poly; total time=   0.2s\n",
            "[CV] END ...........C=0.1, degree=0, gamma=0.01, kernel=poly; total time=   0.2s\n",
            "[CV] END ........C=0.1, degree=0, gamma=0.01, kernel=sigmoid; total time=   0.2s\n",
            "[CV] END ........C=0.1, degree=0, gamma=0.01, kernel=sigmoid; total time=   0.3s\n",
            "[CV] END ........C=0.1, degree=0, gamma=0.01, kernel=sigmoid; total time=   0.2s\n",
            "[CV] END ........C=0.1, degree=0, gamma=0.01, kernel=sigmoid; total time=   0.3s\n",
            "[CV] END ........C=0.1, degree=0, gamma=0.01, kernel=sigmoid; total time=   0.2s\n",
            "[CV] END ..........C=0.1, degree=0, gamma=0.1, kernel=linear; total time=   0.1s\n",
            "[CV] END ..........C=0.1, degree=0, gamma=0.1, kernel=linear; total time=   0.0s\n",
            "[CV] END ..........C=0.1, degree=0, gamma=0.1, kernel=linear; total time=   0.0s\n",
            "[CV] END ..........C=0.1, degree=0, gamma=0.1, kernel=linear; total time=   0.1s\n",
            "[CV] END ..........C=0.1, degree=0, gamma=0.1, kernel=linear; total time=   0.1s\n",
            "[CV] END .............C=0.1, degree=0, gamma=0.1, kernel=rbf; total time=   0.5s\n",
            "[CV] END .............C=0.1, degree=0, gamma=0.1, kernel=rbf; total time=   0.4s\n",
            "[CV] END .............C=0.1, degree=0, gamma=0.1, kernel=rbf; total time=   0.2s\n",
            "[CV] END .............C=0.1, degree=0, gamma=0.1, kernel=rbf; total time=   0.2s\n",
            "[CV] END .............C=0.1, degree=0, gamma=0.1, kernel=rbf; total time=   0.2s\n",
            "[CV] END ............C=0.1, degree=0, gamma=0.1, kernel=poly; total time=   0.1s\n",
            "[CV] END ............C=0.1, degree=0, gamma=0.1, kernel=poly; total time=   0.1s\n",
            "[CV] END ............C=0.1, degree=0, gamma=0.1, kernel=poly; total time=   0.1s\n",
            "[CV] END ............C=0.1, degree=0, gamma=0.1, kernel=poly; total time=   0.1s\n",
            "[CV] END ............C=0.1, degree=0, gamma=0.1, kernel=poly; total time=   0.1s\n",
            "[CV] END .........C=0.1, degree=0, gamma=0.1, kernel=sigmoid; total time=   0.1s\n",
            "[CV] END .........C=0.1, degree=0, gamma=0.1, kernel=sigmoid; total time=   0.1s\n",
            "[CV] END .........C=0.1, degree=0, gamma=0.1, kernel=sigmoid; total time=   0.1s\n",
            "[CV] END .........C=0.1, degree=0, gamma=0.1, kernel=sigmoid; total time=   0.1s\n",
            "[CV] END .........C=0.1, degree=0, gamma=0.1, kernel=sigmoid; total time=   0.1s\n",
            "[CV] END ............C=0.1, degree=0, gamma=1, kernel=linear; total time=   0.0s\n",
            "[CV] END ............C=0.1, degree=0, gamma=1, kernel=linear; total time=   0.0s\n",
            "[CV] END ............C=0.1, degree=0, gamma=1, kernel=linear; total time=   0.0s\n",
            "[CV] END ............C=0.1, degree=0, gamma=1, kernel=linear; total time=   0.0s\n",
            "[CV] END ............C=0.1, degree=0, gamma=1, kernel=linear; total time=   0.0s\n",
            "[CV] END ...............C=0.1, degree=0, gamma=1, kernel=rbf; total time=   0.2s\n",
            "[CV] END ...............C=0.1, degree=0, gamma=1, kernel=rbf; total time=   0.2s\n",
            "[CV] END ...............C=0.1, degree=0, gamma=1, kernel=rbf; total time=   0.2s\n",
            "[CV] END ...............C=0.1, degree=0, gamma=1, kernel=rbf; total time=   0.2s\n",
            "[CV] END ...............C=0.1, degree=0, gamma=1, kernel=rbf; total time=   0.2s\n",
            "[CV] END ..............C=0.1, degree=0, gamma=1, kernel=poly; total time=   0.1s\n",
            "[CV] END ..............C=0.1, degree=0, gamma=1, kernel=poly; total time=   0.1s\n",
            "[CV] END ..............C=0.1, degree=0, gamma=1, kernel=poly; total time=   0.1s\n",
            "[CV] END ..............C=0.1, degree=0, gamma=1, kernel=poly; total time=   0.1s\n",
            "[CV] END ..............C=0.1, degree=0, gamma=1, kernel=poly; total time=   0.1s\n",
            "[CV] END ...........C=0.1, degree=0, gamma=1, kernel=sigmoid; total time=   0.1s\n",
            "[CV] END ...........C=0.1, degree=0, gamma=1, kernel=sigmoid; total time=   0.1s\n",
            "[CV] END ...........C=0.1, degree=0, gamma=1, kernel=sigmoid; total time=   0.1s\n",
            "[CV] END ...........C=0.1, degree=0, gamma=1, kernel=sigmoid; total time=   0.1s\n",
            "[CV] END ...........C=0.1, degree=0, gamma=1, kernel=sigmoid; total time=   0.1s\n",
            "[CV] END ........C=0.1, degree=2, gamma=0.001, kernel=linear; total time=   0.0s\n",
            "[CV] END ........C=0.1, degree=2, gamma=0.001, kernel=linear; total time=   0.0s\n",
            "[CV] END ........C=0.1, degree=2, gamma=0.001, kernel=linear; total time=   0.0s\n",
            "[CV] END ........C=0.1, degree=2, gamma=0.001, kernel=linear; total time=   0.0s\n",
            "[CV] END ........C=0.1, degree=2, gamma=0.001, kernel=linear; total time=   0.0s\n",
            "[CV] END ...........C=0.1, degree=2, gamma=0.001, kernel=rbf; total time=   0.1s\n",
            "[CV] END ...........C=0.1, degree=2, gamma=0.001, kernel=rbf; total time=   0.1s\n",
            "[CV] END ...........C=0.1, degree=2, gamma=0.001, kernel=rbf; total time=   0.1s\n",
            "[CV] END ...........C=0.1, degree=2, gamma=0.001, kernel=rbf; total time=   0.1s\n",
            "[CV] END ...........C=0.1, degree=2, gamma=0.001, kernel=rbf; total time=   0.1s\n",
            "[CV] END ..........C=0.1, degree=2, gamma=0.001, kernel=poly; total time=   0.0s\n",
            "[CV] END ..........C=0.1, degree=2, gamma=0.001, kernel=poly; total time=   0.0s\n",
            "[CV] END ..........C=0.1, degree=2, gamma=0.001, kernel=poly; total time=   0.0s\n",
            "[CV] END ..........C=0.1, degree=2, gamma=0.001, kernel=poly; total time=   0.0s\n",
            "[CV] END ..........C=0.1, degree=2, gamma=0.001, kernel=poly; total time=   0.0s\n",
            "[CV] END .......C=0.1, degree=2, gamma=0.001, kernel=sigmoid; total time=   0.3s\n",
            "[CV] END .......C=0.1, degree=2, gamma=0.001, kernel=sigmoid; total time=   0.3s\n",
            "[CV] END .......C=0.1, degree=2, gamma=0.001, kernel=sigmoid; total time=   0.3s\n",
            "[CV] END .......C=0.1, degree=2, gamma=0.001, kernel=sigmoid; total time=   0.2s\n",
            "[CV] END .......C=0.1, degree=2, gamma=0.001, kernel=sigmoid; total time=   0.3s\n",
            "[CV] END .........C=0.1, degree=2, gamma=0.01, kernel=linear; total time=   0.0s\n",
            "[CV] END .........C=0.1, degree=2, gamma=0.01, kernel=linear; total time=   0.0s\n",
            "[CV] END .........C=0.1, degree=2, gamma=0.01, kernel=linear; total time=   0.0s\n",
            "[CV] END .........C=0.1, degree=2, gamma=0.01, kernel=linear; total time=   0.0s\n",
            "[CV] END .........C=0.1, degree=2, gamma=0.01, kernel=linear; total time=   0.0s\n",
            "[CV] END ............C=0.1, degree=2, gamma=0.01, kernel=rbf; total time=   0.4s\n",
            "[CV] END ............C=0.1, degree=2, gamma=0.01, kernel=rbf; total time=   0.3s\n",
            "[CV] END ............C=0.1, degree=2, gamma=0.01, kernel=rbf; total time=   0.3s\n",
            "[CV] END ............C=0.1, degree=2, gamma=0.01, kernel=rbf; total time=   0.2s\n",
            "[CV] END ............C=0.1, degree=2, gamma=0.01, kernel=rbf; total time=   0.2s\n",
            "[CV] END ...........C=0.1, degree=2, gamma=0.01, kernel=poly; total time=   0.0s\n",
            "[CV] END ...........C=0.1, degree=2, gamma=0.01, kernel=poly; total time=   0.0s\n",
            "[CV] END ...........C=0.1, degree=2, gamma=0.01, kernel=poly; total time=   0.0s\n",
            "[CV] END ...........C=0.1, degree=2, gamma=0.01, kernel=poly; total time=   0.0s\n",
            "[CV] END ...........C=0.1, degree=2, gamma=0.01, kernel=poly; total time=   0.0s\n",
            "[CV] END ........C=0.1, degree=2, gamma=0.01, kernel=sigmoid; total time=   0.1s\n",
            "[CV] END ........C=0.1, degree=2, gamma=0.01, kernel=sigmoid; total time=   0.1s\n",
            "[CV] END ........C=0.1, degree=2, gamma=0.01, kernel=sigmoid; total time=   0.1s\n",
            "[CV] END ........C=0.1, degree=2, gamma=0.01, kernel=sigmoid; total time=   0.1s\n",
            "[CV] END ........C=0.1, degree=2, gamma=0.01, kernel=sigmoid; total time=   0.1s\n",
            "[CV] END ..........C=0.1, degree=2, gamma=0.1, kernel=linear; total time=   0.0s\n",
            "[CV] END ..........C=0.1, degree=2, gamma=0.1, kernel=linear; total time=   0.0s\n",
            "[CV] END ..........C=0.1, degree=2, gamma=0.1, kernel=linear; total time=   0.0s\n",
            "[CV] END ..........C=0.1, degree=2, gamma=0.1, kernel=linear; total time=   0.0s\n",
            "[CV] END ..........C=0.1, degree=2, gamma=0.1, kernel=linear; total time=   0.0s\n",
            "[CV] END .............C=0.1, degree=2, gamma=0.1, kernel=rbf; total time=   0.2s\n",
            "[CV] END .............C=0.1, degree=2, gamma=0.1, kernel=rbf; total time=   0.2s\n",
            "[CV] END .............C=0.1, degree=2, gamma=0.1, kernel=rbf; total time=   0.2s\n",
            "[CV] END .............C=0.1, degree=2, gamma=0.1, kernel=rbf; total time=   0.2s\n",
            "[CV] END .............C=0.1, degree=2, gamma=0.1, kernel=rbf; total time=   0.2s\n",
            "[CV] END ............C=0.1, degree=2, gamma=0.1, kernel=poly; total time=   0.0s\n",
            "[CV] END ............C=0.1, degree=2, gamma=0.1, kernel=poly; total time=   0.0s\n",
            "[CV] END ............C=0.1, degree=2, gamma=0.1, kernel=poly; total time=   0.0s\n",
            "[CV] END ............C=0.1, degree=2, gamma=0.1, kernel=poly; total time=   0.0s\n",
            "[CV] END ............C=0.1, degree=2, gamma=0.1, kernel=poly; total time=   0.0s\n",
            "[CV] END .........C=0.1, degree=2, gamma=0.1, kernel=sigmoid; total time=   0.1s\n",
            "[CV] END .........C=0.1, degree=2, gamma=0.1, kernel=sigmoid; total time=   0.1s\n",
            "[CV] END .........C=0.1, degree=2, gamma=0.1, kernel=sigmoid; total time=   0.1s\n",
            "[CV] END .........C=0.1, degree=2, gamma=0.1, kernel=sigmoid; total time=   0.1s\n",
            "[CV] END .........C=0.1, degree=2, gamma=0.1, kernel=sigmoid; total time=   0.1s\n",
            "[CV] END ............C=0.1, degree=2, gamma=1, kernel=linear; total time=   0.0s\n",
            "[CV] END ............C=0.1, degree=2, gamma=1, kernel=linear; total time=   0.0s\n",
            "[CV] END ............C=0.1, degree=2, gamma=1, kernel=linear; total time=   0.0s\n",
            "[CV] END ............C=0.1, degree=2, gamma=1, kernel=linear; total time=   0.0s\n",
            "[CV] END ............C=0.1, degree=2, gamma=1, kernel=linear; total time=   0.0s\n",
            "[CV] END ...............C=0.1, degree=2, gamma=1, kernel=rbf; total time=   0.2s\n",
            "[CV] END ...............C=0.1, degree=2, gamma=1, kernel=rbf; total time=   0.2s\n",
            "[CV] END ...............C=0.1, degree=2, gamma=1, kernel=rbf; total time=   0.2s\n",
            "[CV] END ...............C=0.1, degree=2, gamma=1, kernel=rbf; total time=   0.2s\n",
            "[CV] END ...............C=0.1, degree=2, gamma=1, kernel=rbf; total time=   0.2s\n",
            "[CV] END ..............C=0.1, degree=2, gamma=1, kernel=poly; total time=   0.0s\n",
            "[CV] END ..............C=0.1, degree=2, gamma=1, kernel=poly; total time=   0.0s\n",
            "[CV] END ..............C=0.1, degree=2, gamma=1, kernel=poly; total time=   0.0s\n",
            "[CV] END ..............C=0.1, degree=2, gamma=1, kernel=poly; total time=   0.0s\n",
            "[CV] END ..............C=0.1, degree=2, gamma=1, kernel=poly; total time=   0.0s\n",
            "[CV] END ...........C=0.1, degree=2, gamma=1, kernel=sigmoid; total time=   0.1s\n",
            "[CV] END ...........C=0.1, degree=2, gamma=1, kernel=sigmoid; total time=   0.1s\n",
            "[CV] END ...........C=0.1, degree=2, gamma=1, kernel=sigmoid; total time=   0.1s\n",
            "[CV] END ...........C=0.1, degree=2, gamma=1, kernel=sigmoid; total time=   0.1s\n",
            "[CV] END ...........C=0.1, degree=2, gamma=1, kernel=sigmoid; total time=   0.1s\n",
            "[CV] END ........C=0.1, degree=4, gamma=0.001, kernel=linear; total time=   0.0s\n",
            "[CV] END ........C=0.1, degree=4, gamma=0.001, kernel=linear; total time=   0.0s\n",
            "[CV] END ........C=0.1, degree=4, gamma=0.001, kernel=linear; total time=   0.0s\n",
            "[CV] END ........C=0.1, degree=4, gamma=0.001, kernel=linear; total time=   0.0s\n",
            "[CV] END ........C=0.1, degree=4, gamma=0.001, kernel=linear; total time=   0.0s\n",
            "[CV] END ...........C=0.1, degree=4, gamma=0.001, kernel=rbf; total time=   0.1s\n",
            "[CV] END ...........C=0.1, degree=4, gamma=0.001, kernel=rbf; total time=   0.1s\n",
            "[CV] END ...........C=0.1, degree=4, gamma=0.001, kernel=rbf; total time=   0.1s\n",
            "[CV] END ...........C=0.1, degree=4, gamma=0.001, kernel=rbf; total time=   0.1s\n",
            "[CV] END ...........C=0.1, degree=4, gamma=0.001, kernel=rbf; total time=   0.1s\n",
            "[CV] END ..........C=0.1, degree=4, gamma=0.001, kernel=poly; total time=   0.0s\n",
            "[CV] END ..........C=0.1, degree=4, gamma=0.001, kernel=poly; total time=   0.0s\n",
            "[CV] END ..........C=0.1, degree=4, gamma=0.001, kernel=poly; total time=   0.0s\n",
            "[CV] END ..........C=0.1, degree=4, gamma=0.001, kernel=poly; total time=   0.0s\n",
            "[CV] END ..........C=0.1, degree=4, gamma=0.001, kernel=poly; total time=   0.0s\n",
            "[CV] END .......C=0.1, degree=4, gamma=0.001, kernel=sigmoid; total time=   0.2s\n",
            "[CV] END .......C=0.1, degree=4, gamma=0.001, kernel=sigmoid; total time=   0.2s\n",
            "[CV] END .......C=0.1, degree=4, gamma=0.001, kernel=sigmoid; total time=   0.2s\n",
            "[CV] END .......C=0.1, degree=4, gamma=0.001, kernel=sigmoid; total time=   0.3s\n",
            "[CV] END .......C=0.1, degree=4, gamma=0.001, kernel=sigmoid; total time=   0.2s\n",
            "[CV] END .........C=0.1, degree=4, gamma=0.01, kernel=linear; total time=   0.0s\n",
            "[CV] END .........C=0.1, degree=4, gamma=0.01, kernel=linear; total time=   0.0s\n",
            "[CV] END .........C=0.1, degree=4, gamma=0.01, kernel=linear; total time=   0.0s\n",
            "[CV] END .........C=0.1, degree=4, gamma=0.01, kernel=linear; total time=   0.0s\n",
            "[CV] END .........C=0.1, degree=4, gamma=0.01, kernel=linear; total time=   0.0s\n",
            "[CV] END ............C=0.1, degree=4, gamma=0.01, kernel=rbf; total time=   0.2s\n",
            "[CV] END ............C=0.1, degree=4, gamma=0.01, kernel=rbf; total time=   0.2s\n",
            "[CV] END ............C=0.1, degree=4, gamma=0.01, kernel=rbf; total time=   0.2s\n",
            "[CV] END ............C=0.1, degree=4, gamma=0.01, kernel=rbf; total time=   0.2s\n",
            "[CV] END ............C=0.1, degree=4, gamma=0.01, kernel=rbf; total time=   0.2s\n",
            "[CV] END ...........C=0.1, degree=4, gamma=0.01, kernel=poly; total time=   0.0s\n",
            "[CV] END ...........C=0.1, degree=4, gamma=0.01, kernel=poly; total time=   0.0s\n",
            "[CV] END ...........C=0.1, degree=4, gamma=0.01, kernel=poly; total time=   0.0s\n",
            "[CV] END ...........C=0.1, degree=4, gamma=0.01, kernel=poly; total time=   0.0s\n",
            "[CV] END ...........C=0.1, degree=4, gamma=0.01, kernel=poly; total time=   0.0s\n",
            "[CV] END ........C=0.1, degree=4, gamma=0.01, kernel=sigmoid; total time=   0.1s\n",
            "[CV] END ........C=0.1, degree=4, gamma=0.01, kernel=sigmoid; total time=   0.1s\n",
            "[CV] END ........C=0.1, degree=4, gamma=0.01, kernel=sigmoid; total time=   0.1s\n",
            "[CV] END ........C=0.1, degree=4, gamma=0.01, kernel=sigmoid; total time=   0.1s\n",
            "[CV] END ........C=0.1, degree=4, gamma=0.01, kernel=sigmoid; total time=   0.1s\n",
            "[CV] END ..........C=0.1, degree=4, gamma=0.1, kernel=linear; total time=   0.0s\n",
            "[CV] END ..........C=0.1, degree=4, gamma=0.1, kernel=linear; total time=   0.0s\n",
            "[CV] END ..........C=0.1, degree=4, gamma=0.1, kernel=linear; total time=   0.0s\n",
            "[CV] END ..........C=0.1, degree=4, gamma=0.1, kernel=linear; total time=   0.0s\n",
            "[CV] END ..........C=0.1, degree=4, gamma=0.1, kernel=linear; total time=   0.0s\n",
            "[CV] END .............C=0.1, degree=4, gamma=0.1, kernel=rbf; total time=   0.2s\n",
            "[CV] END .............C=0.1, degree=4, gamma=0.1, kernel=rbf; total time=   0.2s\n",
            "[CV] END .............C=0.1, degree=4, gamma=0.1, kernel=rbf; total time=   0.2s\n",
            "[CV] END .............C=0.1, degree=4, gamma=0.1, kernel=rbf; total time=   0.2s\n",
            "[CV] END .............C=0.1, degree=4, gamma=0.1, kernel=rbf; total time=   0.2s\n",
            "[CV] END ............C=0.1, degree=4, gamma=0.1, kernel=poly; total time=   0.0s\n",
            "[CV] END ............C=0.1, degree=4, gamma=0.1, kernel=poly; total time=   0.0s\n",
            "[CV] END ............C=0.1, degree=4, gamma=0.1, kernel=poly; total time=   0.0s\n",
            "[CV] END ............C=0.1, degree=4, gamma=0.1, kernel=poly; total time=   0.0s\n",
            "[CV] END ............C=0.1, degree=4, gamma=0.1, kernel=poly; total time=   0.0s\n",
            "[CV] END .........C=0.1, degree=4, gamma=0.1, kernel=sigmoid; total time=   0.1s\n",
            "[CV] END .........C=0.1, degree=4, gamma=0.1, kernel=sigmoid; total time=   0.1s\n",
            "[CV] END .........C=0.1, degree=4, gamma=0.1, kernel=sigmoid; total time=   0.1s\n",
            "[CV] END .........C=0.1, degree=4, gamma=0.1, kernel=sigmoid; total time=   0.1s\n",
            "[CV] END .........C=0.1, degree=4, gamma=0.1, kernel=sigmoid; total time=   0.1s\n",
            "[CV] END ............C=0.1, degree=4, gamma=1, kernel=linear; total time=   0.0s\n",
            "[CV] END ............C=0.1, degree=4, gamma=1, kernel=linear; total time=   0.0s\n",
            "[CV] END ............C=0.1, degree=4, gamma=1, kernel=linear; total time=   0.0s\n",
            "[CV] END ............C=0.1, degree=4, gamma=1, kernel=linear; total time=   0.0s\n",
            "[CV] END ............C=0.1, degree=4, gamma=1, kernel=linear; total time=   0.0s\n",
            "[CV] END ...............C=0.1, degree=4, gamma=1, kernel=rbf; total time=   0.2s\n",
            "[CV] END ...............C=0.1, degree=4, gamma=1, kernel=rbf; total time=   0.2s\n",
            "[CV] END ...............C=0.1, degree=4, gamma=1, kernel=rbf; total time=   0.2s\n",
            "[CV] END ...............C=0.1, degree=4, gamma=1, kernel=rbf; total time=   0.2s\n",
            "[CV] END ...............C=0.1, degree=4, gamma=1, kernel=rbf; total time=   0.2s\n",
            "[CV] END ..............C=0.1, degree=4, gamma=1, kernel=poly; total time=   0.0s\n",
            "[CV] END ..............C=0.1, degree=4, gamma=1, kernel=poly; total time=   0.0s\n",
            "[CV] END ..............C=0.1, degree=4, gamma=1, kernel=poly; total time=   0.0s\n",
            "[CV] END ..............C=0.1, degree=4, gamma=1, kernel=poly; total time=   0.0s\n",
            "[CV] END ..............C=0.1, degree=4, gamma=1, kernel=poly; total time=   0.0s\n",
            "[CV] END ...........C=0.1, degree=4, gamma=1, kernel=sigmoid; total time=   0.1s\n",
            "[CV] END ...........C=0.1, degree=4, gamma=1, kernel=sigmoid; total time=   0.1s\n",
            "[CV] END ...........C=0.1, degree=4, gamma=1, kernel=sigmoid; total time=   0.1s\n",
            "[CV] END ...........C=0.1, degree=4, gamma=1, kernel=sigmoid; total time=   0.1s\n",
            "[CV] END ...........C=0.1, degree=4, gamma=1, kernel=sigmoid; total time=   0.1s\n",
            "[CV] END .........C=10, degree=0, gamma=0.001, kernel=linear; total time=   0.0s\n",
            "[CV] END .........C=10, degree=0, gamma=0.001, kernel=linear; total time=   0.0s\n",
            "[CV] END .........C=10, degree=0, gamma=0.001, kernel=linear; total time=   0.0s\n",
            "[CV] END .........C=10, degree=0, gamma=0.001, kernel=linear; total time=   0.0s\n",
            "[CV] END .........C=10, degree=0, gamma=0.001, kernel=linear; total time=   0.0s\n",
            "[CV] END ............C=10, degree=0, gamma=0.001, kernel=rbf; total time=   0.1s\n",
            "[CV] END ............C=10, degree=0, gamma=0.001, kernel=rbf; total time=   0.1s\n",
            "[CV] END ............C=10, degree=0, gamma=0.001, kernel=rbf; total time=   0.1s\n",
            "[CV] END ............C=10, degree=0, gamma=0.001, kernel=rbf; total time=   0.1s\n",
            "[CV] END ............C=10, degree=0, gamma=0.001, kernel=rbf; total time=   0.1s\n",
            "[CV] END ...........C=10, degree=0, gamma=0.001, kernel=poly; total time=   0.1s\n",
            "[CV] END ...........C=10, degree=0, gamma=0.001, kernel=poly; total time=   0.1s\n",
            "[CV] END ...........C=10, degree=0, gamma=0.001, kernel=poly; total time=   0.1s\n",
            "[CV] END ...........C=10, degree=0, gamma=0.001, kernel=poly; total time=   0.1s\n",
            "[CV] END ...........C=10, degree=0, gamma=0.001, kernel=poly; total time=   0.1s\n",
            "[CV] END ........C=10, degree=0, gamma=0.001, kernel=sigmoid; total time=   0.1s\n",
            "[CV] END ........C=10, degree=0, gamma=0.001, kernel=sigmoid; total time=   0.1s\n",
            "[CV] END ........C=10, degree=0, gamma=0.001, kernel=sigmoid; total time=   0.1s\n",
            "[CV] END ........C=10, degree=0, gamma=0.001, kernel=sigmoid; total time=   0.1s\n",
            "[CV] END ........C=10, degree=0, gamma=0.001, kernel=sigmoid; total time=   0.1s\n",
            "[CV] END ..........C=10, degree=0, gamma=0.01, kernel=linear; total time=   0.0s\n",
            "[CV] END ..........C=10, degree=0, gamma=0.01, kernel=linear; total time=   0.0s\n",
            "[CV] END ..........C=10, degree=0, gamma=0.01, kernel=linear; total time=   0.0s\n",
            "[CV] END ..........C=10, degree=0, gamma=0.01, kernel=linear; total time=   0.0s\n",
            "[CV] END ..........C=10, degree=0, gamma=0.01, kernel=linear; total time=   0.0s\n",
            "[CV] END .............C=10, degree=0, gamma=0.01, kernel=rbf; total time=   0.2s\n",
            "[CV] END .............C=10, degree=0, gamma=0.01, kernel=rbf; total time=   0.2s\n",
            "[CV] END .............C=10, degree=0, gamma=0.01, kernel=rbf; total time=   0.2s\n",
            "[CV] END .............C=10, degree=0, gamma=0.01, kernel=rbf; total time=   0.2s\n",
            "[CV] END .............C=10, degree=0, gamma=0.01, kernel=rbf; total time=   0.2s\n",
            "[CV] END ............C=10, degree=0, gamma=0.01, kernel=poly; total time=   0.1s\n",
            "[CV] END ............C=10, degree=0, gamma=0.01, kernel=poly; total time=   0.1s\n",
            "[CV] END ............C=10, degree=0, gamma=0.01, kernel=poly; total time=   0.1s\n",
            "[CV] END ............C=10, degree=0, gamma=0.01, kernel=poly; total time=   0.1s\n",
            "[CV] END ............C=10, degree=0, gamma=0.01, kernel=poly; total time=   0.1s\n",
            "[CV] END .........C=10, degree=0, gamma=0.01, kernel=sigmoid; total time=   0.1s\n",
            "[CV] END .........C=10, degree=0, gamma=0.01, kernel=sigmoid; total time=   0.1s\n",
            "[CV] END .........C=10, degree=0, gamma=0.01, kernel=sigmoid; total time=   0.1s\n",
            "[CV] END .........C=10, degree=0, gamma=0.01, kernel=sigmoid; total time=   0.1s\n",
            "[CV] END .........C=10, degree=0, gamma=0.01, kernel=sigmoid; total time=   0.1s\n",
            "[CV] END ...........C=10, degree=0, gamma=0.1, kernel=linear; total time=   0.0s\n",
            "[CV] END ...........C=10, degree=0, gamma=0.1, kernel=linear; total time=   0.0s\n",
            "[CV] END ...........C=10, degree=0, gamma=0.1, kernel=linear; total time=   0.0s\n",
            "[CV] END ...........C=10, degree=0, gamma=0.1, kernel=linear; total time=   0.0s\n",
            "[CV] END ...........C=10, degree=0, gamma=0.1, kernel=linear; total time=   0.0s\n",
            "[CV] END ..............C=10, degree=0, gamma=0.1, kernel=rbf; total time=   0.2s\n",
            "[CV] END ..............C=10, degree=0, gamma=0.1, kernel=rbf; total time=   0.3s\n",
            "[CV] END ..............C=10, degree=0, gamma=0.1, kernel=rbf; total time=   0.3s\n",
            "[CV] END ..............C=10, degree=0, gamma=0.1, kernel=rbf; total time=   0.2s\n",
            "[CV] END ..............C=10, degree=0, gamma=0.1, kernel=rbf; total time=   0.2s\n",
            "[CV] END .............C=10, degree=0, gamma=0.1, kernel=poly; total time=   0.1s\n",
            "[CV] END .............C=10, degree=0, gamma=0.1, kernel=poly; total time=   0.1s\n",
            "[CV] END .............C=10, degree=0, gamma=0.1, kernel=poly; total time=   0.1s\n",
            "[CV] END .............C=10, degree=0, gamma=0.1, kernel=poly; total time=   0.1s\n",
            "[CV] END .............C=10, degree=0, gamma=0.1, kernel=poly; total time=   0.1s\n",
            "[CV] END ..........C=10, degree=0, gamma=0.1, kernel=sigmoid; total time=   0.1s\n",
            "[CV] END ..........C=10, degree=0, gamma=0.1, kernel=sigmoid; total time=   0.1s\n",
            "[CV] END ..........C=10, degree=0, gamma=0.1, kernel=sigmoid; total time=   0.1s\n",
            "[CV] END ..........C=10, degree=0, gamma=0.1, kernel=sigmoid; total time=   0.1s\n",
            "[CV] END ..........C=10, degree=0, gamma=0.1, kernel=sigmoid; total time=   0.1s\n",
            "[CV] END .............C=10, degree=0, gamma=1, kernel=linear; total time=   0.0s\n",
            "[CV] END .............C=10, degree=0, gamma=1, kernel=linear; total time=   0.0s\n",
            "[CV] END .............C=10, degree=0, gamma=1, kernel=linear; total time=   0.0s\n",
            "[CV] END .............C=10, degree=0, gamma=1, kernel=linear; total time=   0.0s\n",
            "[CV] END .............C=10, degree=0, gamma=1, kernel=linear; total time=   0.0s\n",
            "[CV] END ................C=10, degree=0, gamma=1, kernel=rbf; total time=   0.2s\n",
            "[CV] END ................C=10, degree=0, gamma=1, kernel=rbf; total time=   0.2s\n",
            "[CV] END ................C=10, degree=0, gamma=1, kernel=rbf; total time=   0.2s\n",
            "[CV] END ................C=10, degree=0, gamma=1, kernel=rbf; total time=   0.2s\n",
            "[CV] END ................C=10, degree=0, gamma=1, kernel=rbf; total time=   0.2s\n",
            "[CV] END ...............C=10, degree=0, gamma=1, kernel=poly; total time=   0.1s\n",
            "[CV] END ...............C=10, degree=0, gamma=1, kernel=poly; total time=   0.1s\n",
            "[CV] END ...............C=10, degree=0, gamma=1, kernel=poly; total time=   0.1s\n",
            "[CV] END ...............C=10, degree=0, gamma=1, kernel=poly; total time=   0.1s\n",
            "[CV] END ...............C=10, degree=0, gamma=1, kernel=poly; total time=   0.1s\n",
            "[CV] END ............C=10, degree=0, gamma=1, kernel=sigmoid; total time=   0.1s\n",
            "[CV] END ............C=10, degree=0, gamma=1, kernel=sigmoid; total time=   0.1s\n",
            "[CV] END ............C=10, degree=0, gamma=1, kernel=sigmoid; total time=   0.1s\n",
            "[CV] END ............C=10, degree=0, gamma=1, kernel=sigmoid; total time=   0.1s\n",
            "[CV] END ............C=10, degree=0, gamma=1, kernel=sigmoid; total time=   0.1s\n",
            "[CV] END .........C=10, degree=2, gamma=0.001, kernel=linear; total time=   0.0s\n",
            "[CV] END .........C=10, degree=2, gamma=0.001, kernel=linear; total time=   0.0s\n",
            "[CV] END .........C=10, degree=2, gamma=0.001, kernel=linear; total time=   0.0s\n",
            "[CV] END .........C=10, degree=2, gamma=0.001, kernel=linear; total time=   0.0s\n",
            "[CV] END .........C=10, degree=2, gamma=0.001, kernel=linear; total time=   0.0s\n",
            "[CV] END ............C=10, degree=2, gamma=0.001, kernel=rbf; total time=   0.1s\n",
            "[CV] END ............C=10, degree=2, gamma=0.001, kernel=rbf; total time=   0.1s\n",
            "[CV] END ............C=10, degree=2, gamma=0.001, kernel=rbf; total time=   0.1s\n",
            "[CV] END ............C=10, degree=2, gamma=0.001, kernel=rbf; total time=   0.1s\n",
            "[CV] END ............C=10, degree=2, gamma=0.001, kernel=rbf; total time=   0.1s\n",
            "[CV] END ...........C=10, degree=2, gamma=0.001, kernel=poly; total time=   0.0s\n",
            "[CV] END ...........C=10, degree=2, gamma=0.001, kernel=poly; total time=   0.0s\n",
            "[CV] END ...........C=10, degree=2, gamma=0.001, kernel=poly; total time=   0.0s\n",
            "[CV] END ...........C=10, degree=2, gamma=0.001, kernel=poly; total time=   0.0s\n",
            "[CV] END ...........C=10, degree=2, gamma=0.001, kernel=poly; total time=   0.0s\n",
            "[CV] END ........C=10, degree=2, gamma=0.001, kernel=sigmoid; total time=   0.1s\n",
            "[CV] END ........C=10, degree=2, gamma=0.001, kernel=sigmoid; total time=   0.1s\n",
            "[CV] END ........C=10, degree=2, gamma=0.001, kernel=sigmoid; total time=   0.1s\n",
            "[CV] END ........C=10, degree=2, gamma=0.001, kernel=sigmoid; total time=   0.1s\n",
            "[CV] END ........C=10, degree=2, gamma=0.001, kernel=sigmoid; total time=   0.1s\n",
            "[CV] END ..........C=10, degree=2, gamma=0.01, kernel=linear; total time=   0.0s\n",
            "[CV] END ..........C=10, degree=2, gamma=0.01, kernel=linear; total time=   0.0s\n",
            "[CV] END ..........C=10, degree=2, gamma=0.01, kernel=linear; total time=   0.0s\n",
            "[CV] END ..........C=10, degree=2, gamma=0.01, kernel=linear; total time=   0.0s\n",
            "[CV] END ..........C=10, degree=2, gamma=0.01, kernel=linear; total time=   0.0s\n",
            "[CV] END .............C=10, degree=2, gamma=0.01, kernel=rbf; total time=   0.2s\n",
            "[CV] END .............C=10, degree=2, gamma=0.01, kernel=rbf; total time=   0.2s\n",
            "[CV] END .............C=10, degree=2, gamma=0.01, kernel=rbf; total time=   0.2s\n",
            "[CV] END .............C=10, degree=2, gamma=0.01, kernel=rbf; total time=   0.2s\n",
            "[CV] END .............C=10, degree=2, gamma=0.01, kernel=rbf; total time=   0.2s\n",
            "[CV] END ............C=10, degree=2, gamma=0.01, kernel=poly; total time=   0.0s\n",
            "[CV] END ............C=10, degree=2, gamma=0.01, kernel=poly; total time=   0.0s\n",
            "[CV] END ............C=10, degree=2, gamma=0.01, kernel=poly; total time=   0.0s\n",
            "[CV] END ............C=10, degree=2, gamma=0.01, kernel=poly; total time=   0.0s\n",
            "[CV] END ............C=10, degree=2, gamma=0.01, kernel=poly; total time=   0.0s\n",
            "[CV] END .........C=10, degree=2, gamma=0.01, kernel=sigmoid; total time=   0.1s\n",
            "[CV] END .........C=10, degree=2, gamma=0.01, kernel=sigmoid; total time=   0.1s\n",
            "[CV] END .........C=10, degree=2, gamma=0.01, kernel=sigmoid; total time=   0.1s\n",
            "[CV] END .........C=10, degree=2, gamma=0.01, kernel=sigmoid; total time=   0.1s\n",
            "[CV] END .........C=10, degree=2, gamma=0.01, kernel=sigmoid; total time=   0.1s\n",
            "[CV] END ...........C=10, degree=2, gamma=0.1, kernel=linear; total time=   0.0s\n",
            "[CV] END ...........C=10, degree=2, gamma=0.1, kernel=linear; total time=   0.0s\n",
            "[CV] END ...........C=10, degree=2, gamma=0.1, kernel=linear; total time=   0.0s\n",
            "[CV] END ...........C=10, degree=2, gamma=0.1, kernel=linear; total time=   0.0s\n",
            "[CV] END ...........C=10, degree=2, gamma=0.1, kernel=linear; total time=   0.0s\n",
            "[CV] END ..............C=10, degree=2, gamma=0.1, kernel=rbf; total time=   0.2s\n",
            "[CV] END ..............C=10, degree=2, gamma=0.1, kernel=rbf; total time=   0.2s\n",
            "[CV] END ..............C=10, degree=2, gamma=0.1, kernel=rbf; total time=   0.2s\n",
            "[CV] END ..............C=10, degree=2, gamma=0.1, kernel=rbf; total time=   0.2s\n",
            "[CV] END ..............C=10, degree=2, gamma=0.1, kernel=rbf; total time=   0.2s\n",
            "[CV] END .............C=10, degree=2, gamma=0.1, kernel=poly; total time=   0.0s\n",
            "[CV] END .............C=10, degree=2, gamma=0.1, kernel=poly; total time=   0.0s\n",
            "[CV] END .............C=10, degree=2, gamma=0.1, kernel=poly; total time=   0.0s\n",
            "[CV] END .............C=10, degree=2, gamma=0.1, kernel=poly; total time=   0.0s\n",
            "[CV] END .............C=10, degree=2, gamma=0.1, kernel=poly; total time=   0.0s\n",
            "[CV] END ..........C=10, degree=2, gamma=0.1, kernel=sigmoid; total time=   0.1s\n",
            "[CV] END ..........C=10, degree=2, gamma=0.1, kernel=sigmoid; total time=   0.1s\n",
            "[CV] END ..........C=10, degree=2, gamma=0.1, kernel=sigmoid; total time=   0.1s\n",
            "[CV] END ..........C=10, degree=2, gamma=0.1, kernel=sigmoid; total time=   0.1s\n",
            "[CV] END ..........C=10, degree=2, gamma=0.1, kernel=sigmoid; total time=   0.1s\n",
            "[CV] END .............C=10, degree=2, gamma=1, kernel=linear; total time=   0.0s\n",
            "[CV] END .............C=10, degree=2, gamma=1, kernel=linear; total time=   0.0s\n",
            "[CV] END .............C=10, degree=2, gamma=1, kernel=linear; total time=   0.0s\n",
            "[CV] END .............C=10, degree=2, gamma=1, kernel=linear; total time=   0.0s\n",
            "[CV] END .............C=10, degree=2, gamma=1, kernel=linear; total time=   0.0s\n",
            "[CV] END ................C=10, degree=2, gamma=1, kernel=rbf; total time=   0.2s\n",
            "[CV] END ................C=10, degree=2, gamma=1, kernel=rbf; total time=   0.2s\n",
            "[CV] END ................C=10, degree=2, gamma=1, kernel=rbf; total time=   0.2s\n",
            "[CV] END ................C=10, degree=2, gamma=1, kernel=rbf; total time=   0.2s\n",
            "[CV] END ................C=10, degree=2, gamma=1, kernel=rbf; total time=   0.2s\n",
            "[CV] END ...............C=10, degree=2, gamma=1, kernel=poly; total time=   0.0s\n",
            "[CV] END ...............C=10, degree=2, gamma=1, kernel=poly; total time=   0.0s\n",
            "[CV] END ...............C=10, degree=2, gamma=1, kernel=poly; total time=   0.0s\n",
            "[CV] END ...............C=10, degree=2, gamma=1, kernel=poly; total time=   0.0s\n",
            "[CV] END ...............C=10, degree=2, gamma=1, kernel=poly; total time=   0.0s\n",
            "[CV] END ............C=10, degree=2, gamma=1, kernel=sigmoid; total time=   0.1s\n",
            "[CV] END ............C=10, degree=2, gamma=1, kernel=sigmoid; total time=   0.1s\n",
            "[CV] END ............C=10, degree=2, gamma=1, kernel=sigmoid; total time=   0.1s\n",
            "[CV] END ............C=10, degree=2, gamma=1, kernel=sigmoid; total time=   0.1s\n",
            "[CV] END ............C=10, degree=2, gamma=1, kernel=sigmoid; total time=   0.1s\n",
            "[CV] END .........C=10, degree=4, gamma=0.001, kernel=linear; total time=   0.0s\n",
            "[CV] END .........C=10, degree=4, gamma=0.001, kernel=linear; total time=   0.0s\n",
            "[CV] END .........C=10, degree=4, gamma=0.001, kernel=linear; total time=   0.0s\n",
            "[CV] END .........C=10, degree=4, gamma=0.001, kernel=linear; total time=   0.0s\n",
            "[CV] END .........C=10, degree=4, gamma=0.001, kernel=linear; total time=   0.0s\n",
            "[CV] END ............C=10, degree=4, gamma=0.001, kernel=rbf; total time=   0.1s\n",
            "[CV] END ............C=10, degree=4, gamma=0.001, kernel=rbf; total time=   0.1s\n",
            "[CV] END ............C=10, degree=4, gamma=0.001, kernel=rbf; total time=   0.1s\n",
            "[CV] END ............C=10, degree=4, gamma=0.001, kernel=rbf; total time=   0.1s\n",
            "[CV] END ............C=10, degree=4, gamma=0.001, kernel=rbf; total time=   0.1s\n",
            "[CV] END ...........C=10, degree=4, gamma=0.001, kernel=poly; total time=   0.0s\n",
            "[CV] END ...........C=10, degree=4, gamma=0.001, kernel=poly; total time=   0.0s\n",
            "[CV] END ...........C=10, degree=4, gamma=0.001, kernel=poly; total time=   0.0s\n",
            "[CV] END ...........C=10, degree=4, gamma=0.001, kernel=poly; total time=   0.0s\n",
            "[CV] END ...........C=10, degree=4, gamma=0.001, kernel=poly; total time=   0.0s\n",
            "[CV] END ........C=10, degree=4, gamma=0.001, kernel=sigmoid; total time=   0.1s\n",
            "[CV] END ........C=10, degree=4, gamma=0.001, kernel=sigmoid; total time=   0.1s\n",
            "[CV] END ........C=10, degree=4, gamma=0.001, kernel=sigmoid; total time=   0.1s\n",
            "[CV] END ........C=10, degree=4, gamma=0.001, kernel=sigmoid; total time=   0.1s\n",
            "[CV] END ........C=10, degree=4, gamma=0.001, kernel=sigmoid; total time=   0.1s\n",
            "[CV] END ..........C=10, degree=4, gamma=0.01, kernel=linear; total time=   0.0s\n",
            "[CV] END ..........C=10, degree=4, gamma=0.01, kernel=linear; total time=   0.0s\n",
            "[CV] END ..........C=10, degree=4, gamma=0.01, kernel=linear; total time=   0.0s\n",
            "[CV] END ..........C=10, degree=4, gamma=0.01, kernel=linear; total time=   0.0s\n",
            "[CV] END ..........C=10, degree=4, gamma=0.01, kernel=linear; total time=   0.0s\n",
            "[CV] END .............C=10, degree=4, gamma=0.01, kernel=rbf; total time=   0.2s\n",
            "[CV] END .............C=10, degree=4, gamma=0.01, kernel=rbf; total time=   0.2s\n",
            "[CV] END .............C=10, degree=4, gamma=0.01, kernel=rbf; total time=   0.2s\n",
            "[CV] END .............C=10, degree=4, gamma=0.01, kernel=rbf; total time=   0.2s\n",
            "[CV] END .............C=10, degree=4, gamma=0.01, kernel=rbf; total time=   0.2s\n",
            "[CV] END ............C=10, degree=4, gamma=0.01, kernel=poly; total time=   0.0s\n",
            "[CV] END ............C=10, degree=4, gamma=0.01, kernel=poly; total time=   0.0s\n",
            "[CV] END ............C=10, degree=4, gamma=0.01, kernel=poly; total time=   0.0s\n",
            "[CV] END ............C=10, degree=4, gamma=0.01, kernel=poly; total time=   0.0s\n",
            "[CV] END ............C=10, degree=4, gamma=0.01, kernel=poly; total time=   0.0s\n",
            "[CV] END .........C=10, degree=4, gamma=0.01, kernel=sigmoid; total time=   0.1s\n",
            "[CV] END .........C=10, degree=4, gamma=0.01, kernel=sigmoid; total time=   0.1s\n",
            "[CV] END .........C=10, degree=4, gamma=0.01, kernel=sigmoid; total time=   0.1s\n",
            "[CV] END .........C=10, degree=4, gamma=0.01, kernel=sigmoid; total time=   0.1s\n",
            "[CV] END .........C=10, degree=4, gamma=0.01, kernel=sigmoid; total time=   0.1s\n",
            "[CV] END ...........C=10, degree=4, gamma=0.1, kernel=linear; total time=   0.0s\n",
            "[CV] END ...........C=10, degree=4, gamma=0.1, kernel=linear; total time=   0.0s\n",
            "[CV] END ...........C=10, degree=4, gamma=0.1, kernel=linear; total time=   0.0s\n",
            "[CV] END ...........C=10, degree=4, gamma=0.1, kernel=linear; total time=   0.0s\n",
            "[CV] END ...........C=10, degree=4, gamma=0.1, kernel=linear; total time=   0.0s\n",
            "[CV] END ..............C=10, degree=4, gamma=0.1, kernel=rbf; total time=   0.2s\n",
            "[CV] END ..............C=10, degree=4, gamma=0.1, kernel=rbf; total time=   0.2s\n",
            "[CV] END ..............C=10, degree=4, gamma=0.1, kernel=rbf; total time=   0.2s\n",
            "[CV] END ..............C=10, degree=4, gamma=0.1, kernel=rbf; total time=   0.2s\n",
            "[CV] END ..............C=10, degree=4, gamma=0.1, kernel=rbf; total time=   0.2s\n",
            "[CV] END .............C=10, degree=4, gamma=0.1, kernel=poly; total time=   0.0s\n",
            "[CV] END .............C=10, degree=4, gamma=0.1, kernel=poly; total time=   0.0s\n",
            "[CV] END .............C=10, degree=4, gamma=0.1, kernel=poly; total time=   0.0s\n",
            "[CV] END .............C=10, degree=4, gamma=0.1, kernel=poly; total time=   0.0s\n",
            "[CV] END .............C=10, degree=4, gamma=0.1, kernel=poly; total time=   0.0s\n",
            "[CV] END ..........C=10, degree=4, gamma=0.1, kernel=sigmoid; total time=   0.1s\n",
            "[CV] END ..........C=10, degree=4, gamma=0.1, kernel=sigmoid; total time=   0.1s\n",
            "[CV] END ..........C=10, degree=4, gamma=0.1, kernel=sigmoid; total time=   0.1s\n",
            "[CV] END ..........C=10, degree=4, gamma=0.1, kernel=sigmoid; total time=   0.1s\n",
            "[CV] END ..........C=10, degree=4, gamma=0.1, kernel=sigmoid; total time=   0.1s\n",
            "[CV] END .............C=10, degree=4, gamma=1, kernel=linear; total time=   0.0s\n",
            "[CV] END .............C=10, degree=4, gamma=1, kernel=linear; total time=   0.0s\n",
            "[CV] END .............C=10, degree=4, gamma=1, kernel=linear; total time=   0.0s\n",
            "[CV] END .............C=10, degree=4, gamma=1, kernel=linear; total time=   0.0s\n",
            "[CV] END .............C=10, degree=4, gamma=1, kernel=linear; total time=   0.0s\n",
            "[CV] END ................C=10, degree=4, gamma=1, kernel=rbf; total time=   0.2s\n",
            "[CV] END ................C=10, degree=4, gamma=1, kernel=rbf; total time=   0.2s\n",
            "[CV] END ................C=10, degree=4, gamma=1, kernel=rbf; total time=   0.2s\n",
            "[CV] END ................C=10, degree=4, gamma=1, kernel=rbf; total time=   0.2s\n",
            "[CV] END ................C=10, degree=4, gamma=1, kernel=rbf; total time=   0.2s\n",
            "[CV] END ...............C=10, degree=4, gamma=1, kernel=poly; total time=   0.0s\n",
            "[CV] END ...............C=10, degree=4, gamma=1, kernel=poly; total time=   0.0s\n",
            "[CV] END ...............C=10, degree=4, gamma=1, kernel=poly; total time=   0.0s\n",
            "[CV] END ...............C=10, degree=4, gamma=1, kernel=poly; total time=   0.0s\n",
            "[CV] END ...............C=10, degree=4, gamma=1, kernel=poly; total time=   0.0s\n",
            "[CV] END ............C=10, degree=4, gamma=1, kernel=sigmoid; total time=   0.1s\n",
            "[CV] END ............C=10, degree=4, gamma=1, kernel=sigmoid; total time=   0.1s\n",
            "[CV] END ............C=10, degree=4, gamma=1, kernel=sigmoid; total time=   0.1s\n",
            "[CV] END ............C=10, degree=4, gamma=1, kernel=sigmoid; total time=   0.1s\n",
            "[CV] END ............C=10, degree=4, gamma=1, kernel=sigmoid; total time=   0.1s\n",
            "[CV] END ........C=100, degree=0, gamma=0.001, kernel=linear; total time=   0.0s\n",
            "[CV] END ........C=100, degree=0, gamma=0.001, kernel=linear; total time=   0.0s\n",
            "[CV] END ........C=100, degree=0, gamma=0.001, kernel=linear; total time=   0.0s\n",
            "[CV] END ........C=100, degree=0, gamma=0.001, kernel=linear; total time=   0.0s\n",
            "[CV] END ........C=100, degree=0, gamma=0.001, kernel=linear; total time=   0.0s\n",
            "[CV] END ...........C=100, degree=0, gamma=0.001, kernel=rbf; total time=   0.1s\n",
            "[CV] END ...........C=100, degree=0, gamma=0.001, kernel=rbf; total time=   0.1s\n",
            "[CV] END ...........C=100, degree=0, gamma=0.001, kernel=rbf; total time=   0.1s\n",
            "[CV] END ...........C=100, degree=0, gamma=0.001, kernel=rbf; total time=   0.1s\n",
            "[CV] END ...........C=100, degree=0, gamma=0.001, kernel=rbf; total time=   0.1s\n",
            "[CV] END ..........C=100, degree=0, gamma=0.001, kernel=poly; total time=   0.1s\n",
            "[CV] END ..........C=100, degree=0, gamma=0.001, kernel=poly; total time=   0.1s\n",
            "[CV] END ..........C=100, degree=0, gamma=0.001, kernel=poly; total time=   0.1s\n",
            "[CV] END ..........C=100, degree=0, gamma=0.001, kernel=poly; total time=   0.1s\n",
            "[CV] END ..........C=100, degree=0, gamma=0.001, kernel=poly; total time=   0.1s\n",
            "[CV] END .......C=100, degree=0, gamma=0.001, kernel=sigmoid; total time=   0.1s\n",
            "[CV] END .......C=100, degree=0, gamma=0.001, kernel=sigmoid; total time=   0.1s\n",
            "[CV] END .......C=100, degree=0, gamma=0.001, kernel=sigmoid; total time=   0.1s\n",
            "[CV] END .......C=100, degree=0, gamma=0.001, kernel=sigmoid; total time=   0.1s\n",
            "[CV] END .......C=100, degree=0, gamma=0.001, kernel=sigmoid; total time=   0.1s\n",
            "[CV] END .........C=100, degree=0, gamma=0.01, kernel=linear; total time=   0.0s\n",
            "[CV] END .........C=100, degree=0, gamma=0.01, kernel=linear; total time=   0.0s\n",
            "[CV] END .........C=100, degree=0, gamma=0.01, kernel=linear; total time=   0.0s\n",
            "[CV] END .........C=100, degree=0, gamma=0.01, kernel=linear; total time=   0.0s\n",
            "[CV] END .........C=100, degree=0, gamma=0.01, kernel=linear; total time=   0.0s\n",
            "[CV] END ............C=100, degree=0, gamma=0.01, kernel=rbf; total time=   0.2s\n",
            "[CV] END ............C=100, degree=0, gamma=0.01, kernel=rbf; total time=   0.2s\n",
            "[CV] END ............C=100, degree=0, gamma=0.01, kernel=rbf; total time=   0.2s\n",
            "[CV] END ............C=100, degree=0, gamma=0.01, kernel=rbf; total time=   0.2s\n",
            "[CV] END ............C=100, degree=0, gamma=0.01, kernel=rbf; total time=   0.2s\n",
            "[CV] END ...........C=100, degree=0, gamma=0.01, kernel=poly; total time=   0.1s\n",
            "[CV] END ...........C=100, degree=0, gamma=0.01, kernel=poly; total time=   0.1s\n",
            "[CV] END ...........C=100, degree=0, gamma=0.01, kernel=poly; total time=   0.1s\n",
            "[CV] END ...........C=100, degree=0, gamma=0.01, kernel=poly; total time=   0.1s\n",
            "[CV] END ...........C=100, degree=0, gamma=0.01, kernel=poly; total time=   0.1s\n",
            "[CV] END ........C=100, degree=0, gamma=0.01, kernel=sigmoid; total time=   0.1s\n",
            "[CV] END ........C=100, degree=0, gamma=0.01, kernel=sigmoid; total time=   0.2s\n",
            "[CV] END ........C=100, degree=0, gamma=0.01, kernel=sigmoid; total time=   0.1s\n",
            "[CV] END ........C=100, degree=0, gamma=0.01, kernel=sigmoid; total time=   0.1s\n",
            "[CV] END ........C=100, degree=0, gamma=0.01, kernel=sigmoid; total time=   0.1s\n",
            "[CV] END ..........C=100, degree=0, gamma=0.1, kernel=linear; total time=   0.0s\n",
            "[CV] END ..........C=100, degree=0, gamma=0.1, kernel=linear; total time=   0.0s\n",
            "[CV] END ..........C=100, degree=0, gamma=0.1, kernel=linear; total time=   0.0s\n",
            "[CV] END ..........C=100, degree=0, gamma=0.1, kernel=linear; total time=   0.0s\n",
            "[CV] END ..........C=100, degree=0, gamma=0.1, kernel=linear; total time=   0.0s\n",
            "[CV] END .............C=100, degree=0, gamma=0.1, kernel=rbf; total time=   0.2s\n",
            "[CV] END .............C=100, degree=0, gamma=0.1, kernel=rbf; total time=   0.2s\n",
            "[CV] END .............C=100, degree=0, gamma=0.1, kernel=rbf; total time=   0.2s\n",
            "[CV] END .............C=100, degree=0, gamma=0.1, kernel=rbf; total time=   0.2s\n",
            "[CV] END .............C=100, degree=0, gamma=0.1, kernel=rbf; total time=   0.3s\n",
            "[CV] END ............C=100, degree=0, gamma=0.1, kernel=poly; total time=   0.1s\n",
            "[CV] END ............C=100, degree=0, gamma=0.1, kernel=poly; total time=   0.1s\n",
            "[CV] END ............C=100, degree=0, gamma=0.1, kernel=poly; total time=   0.1s\n",
            "[CV] END ............C=100, degree=0, gamma=0.1, kernel=poly; total time=   0.1s\n",
            "[CV] END ............C=100, degree=0, gamma=0.1, kernel=poly; total time=   0.1s\n",
            "[CV] END .........C=100, degree=0, gamma=0.1, kernel=sigmoid; total time=   0.1s\n",
            "[CV] END .........C=100, degree=0, gamma=0.1, kernel=sigmoid; total time=   0.1s\n",
            "[CV] END .........C=100, degree=0, gamma=0.1, kernel=sigmoid; total time=   0.1s\n",
            "[CV] END .........C=100, degree=0, gamma=0.1, kernel=sigmoid; total time=   0.1s\n",
            "[CV] END .........C=100, degree=0, gamma=0.1, kernel=sigmoid; total time=   0.1s\n",
            "[CV] END ............C=100, degree=0, gamma=1, kernel=linear; total time=   0.0s\n",
            "[CV] END ............C=100, degree=0, gamma=1, kernel=linear; total time=   0.0s\n",
            "[CV] END ............C=100, degree=0, gamma=1, kernel=linear; total time=   0.0s\n",
            "[CV] END ............C=100, degree=0, gamma=1, kernel=linear; total time=   0.0s\n",
            "[CV] END ............C=100, degree=0, gamma=1, kernel=linear; total time=   0.0s\n",
            "[CV] END ...............C=100, degree=0, gamma=1, kernel=rbf; total time=   0.2s\n",
            "[CV] END ...............C=100, degree=0, gamma=1, kernel=rbf; total time=   0.2s\n",
            "[CV] END ...............C=100, degree=0, gamma=1, kernel=rbf; total time=   0.2s\n",
            "[CV] END ...............C=100, degree=0, gamma=1, kernel=rbf; total time=   0.2s\n",
            "[CV] END ...............C=100, degree=0, gamma=1, kernel=rbf; total time=   0.2s\n",
            "[CV] END ..............C=100, degree=0, gamma=1, kernel=poly; total time=   0.1s\n",
            "[CV] END ..............C=100, degree=0, gamma=1, kernel=poly; total time=   0.1s\n",
            "[CV] END ..............C=100, degree=0, gamma=1, kernel=poly; total time=   0.1s\n",
            "[CV] END ..............C=100, degree=0, gamma=1, kernel=poly; total time=   0.1s\n",
            "[CV] END ..............C=100, degree=0, gamma=1, kernel=poly; total time=   0.1s\n",
            "[CV] END ...........C=100, degree=0, gamma=1, kernel=sigmoid; total time=   0.1s\n",
            "[CV] END ...........C=100, degree=0, gamma=1, kernel=sigmoid; total time=   0.1s\n",
            "[CV] END ...........C=100, degree=0, gamma=1, kernel=sigmoid; total time=   0.1s\n",
            "[CV] END ...........C=100, degree=0, gamma=1, kernel=sigmoid; total time=   0.1s\n",
            "[CV] END ...........C=100, degree=0, gamma=1, kernel=sigmoid; total time=   0.1s\n",
            "[CV] END ........C=100, degree=2, gamma=0.001, kernel=linear; total time=   0.0s\n",
            "[CV] END ........C=100, degree=2, gamma=0.001, kernel=linear; total time=   0.0s\n",
            "[CV] END ........C=100, degree=2, gamma=0.001, kernel=linear; total time=   0.0s\n",
            "[CV] END ........C=100, degree=2, gamma=0.001, kernel=linear; total time=   0.0s\n",
            "[CV] END ........C=100, degree=2, gamma=0.001, kernel=linear; total time=   0.0s\n",
            "[CV] END ...........C=100, degree=2, gamma=0.001, kernel=rbf; total time=   0.1s\n",
            "[CV] END ...........C=100, degree=2, gamma=0.001, kernel=rbf; total time=   0.1s\n",
            "[CV] END ...........C=100, degree=2, gamma=0.001, kernel=rbf; total time=   0.1s\n",
            "[CV] END ...........C=100, degree=2, gamma=0.001, kernel=rbf; total time=   0.1s\n",
            "[CV] END ...........C=100, degree=2, gamma=0.001, kernel=rbf; total time=   0.1s\n",
            "[CV] END ..........C=100, degree=2, gamma=0.001, kernel=poly; total time=   0.0s\n",
            "[CV] END ..........C=100, degree=2, gamma=0.001, kernel=poly; total time=   0.0s\n",
            "[CV] END ..........C=100, degree=2, gamma=0.001, kernel=poly; total time=   0.0s\n",
            "[CV] END ..........C=100, degree=2, gamma=0.001, kernel=poly; total time=   0.0s\n",
            "[CV] END ..........C=100, degree=2, gamma=0.001, kernel=poly; total time=   0.0s\n",
            "[CV] END .......C=100, degree=2, gamma=0.001, kernel=sigmoid; total time=   0.1s\n",
            "[CV] END .......C=100, degree=2, gamma=0.001, kernel=sigmoid; total time=   0.1s\n",
            "[CV] END .......C=100, degree=2, gamma=0.001, kernel=sigmoid; total time=   0.1s\n",
            "[CV] END .......C=100, degree=2, gamma=0.001, kernel=sigmoid; total time=   0.1s\n",
            "[CV] END .......C=100, degree=2, gamma=0.001, kernel=sigmoid; total time=   0.1s\n",
            "[CV] END .........C=100, degree=2, gamma=0.01, kernel=linear; total time=   0.0s\n",
            "[CV] END .........C=100, degree=2, gamma=0.01, kernel=linear; total time=   0.0s\n",
            "[CV] END .........C=100, degree=2, gamma=0.01, kernel=linear; total time=   0.0s\n",
            "[CV] END .........C=100, degree=2, gamma=0.01, kernel=linear; total time=   0.0s\n",
            "[CV] END .........C=100, degree=2, gamma=0.01, kernel=linear; total time=   0.0s\n",
            "[CV] END ............C=100, degree=2, gamma=0.01, kernel=rbf; total time=   0.2s\n",
            "[CV] END ............C=100, degree=2, gamma=0.01, kernel=rbf; total time=   0.2s\n",
            "[CV] END ............C=100, degree=2, gamma=0.01, kernel=rbf; total time=   0.2s\n",
            "[CV] END ............C=100, degree=2, gamma=0.01, kernel=rbf; total time=   0.2s\n",
            "[CV] END ............C=100, degree=2, gamma=0.01, kernel=rbf; total time=   0.2s\n",
            "[CV] END ...........C=100, degree=2, gamma=0.01, kernel=poly; total time=   0.0s\n",
            "[CV] END ...........C=100, degree=2, gamma=0.01, kernel=poly; total time=   0.0s\n",
            "[CV] END ...........C=100, degree=2, gamma=0.01, kernel=poly; total time=   0.0s\n",
            "[CV] END ...........C=100, degree=2, gamma=0.01, kernel=poly; total time=   0.0s\n",
            "[CV] END ...........C=100, degree=2, gamma=0.01, kernel=poly; total time=   0.0s\n",
            "[CV] END ........C=100, degree=2, gamma=0.01, kernel=sigmoid; total time=   0.1s\n",
            "[CV] END ........C=100, degree=2, gamma=0.01, kernel=sigmoid; total time=   0.1s\n",
            "[CV] END ........C=100, degree=2, gamma=0.01, kernel=sigmoid; total time=   0.1s\n",
            "[CV] END ........C=100, degree=2, gamma=0.01, kernel=sigmoid; total time=   0.1s\n",
            "[CV] END ........C=100, degree=2, gamma=0.01, kernel=sigmoid; total time=   0.1s\n",
            "[CV] END ..........C=100, degree=2, gamma=0.1, kernel=linear; total time=   0.0s\n",
            "[CV] END ..........C=100, degree=2, gamma=0.1, kernel=linear; total time=   0.0s\n",
            "[CV] END ..........C=100, degree=2, gamma=0.1, kernel=linear; total time=   0.0s\n",
            "[CV] END ..........C=100, degree=2, gamma=0.1, kernel=linear; total time=   0.0s\n",
            "[CV] END ..........C=100, degree=2, gamma=0.1, kernel=linear; total time=   0.0s\n",
            "[CV] END .............C=100, degree=2, gamma=0.1, kernel=rbf; total time=   0.3s\n",
            "[CV] END .............C=100, degree=2, gamma=0.1, kernel=rbf; total time=   0.2s\n",
            "[CV] END .............C=100, degree=2, gamma=0.1, kernel=rbf; total time=   0.2s\n",
            "[CV] END .............C=100, degree=2, gamma=0.1, kernel=rbf; total time=   0.2s\n",
            "[CV] END .............C=100, degree=2, gamma=0.1, kernel=rbf; total time=   0.3s\n",
            "[CV] END ............C=100, degree=2, gamma=0.1, kernel=poly; total time=   0.0s\n",
            "[CV] END ............C=100, degree=2, gamma=0.1, kernel=poly; total time=   0.0s\n",
            "[CV] END ............C=100, degree=2, gamma=0.1, kernel=poly; total time=   0.0s\n",
            "[CV] END ............C=100, degree=2, gamma=0.1, kernel=poly; total time=   0.0s\n",
            "[CV] END ............C=100, degree=2, gamma=0.1, kernel=poly; total time=   0.0s\n",
            "[CV] END .........C=100, degree=2, gamma=0.1, kernel=sigmoid; total time=   0.1s\n",
            "[CV] END .........C=100, degree=2, gamma=0.1, kernel=sigmoid; total time=   0.1s\n",
            "[CV] END .........C=100, degree=2, gamma=0.1, kernel=sigmoid; total time=   0.1s\n",
            "[CV] END .........C=100, degree=2, gamma=0.1, kernel=sigmoid; total time=   0.1s\n",
            "[CV] END .........C=100, degree=2, gamma=0.1, kernel=sigmoid; total time=   0.1s\n",
            "[CV] END ............C=100, degree=2, gamma=1, kernel=linear; total time=   0.0s\n",
            "[CV] END ............C=100, degree=2, gamma=1, kernel=linear; total time=   0.0s\n",
            "[CV] END ............C=100, degree=2, gamma=1, kernel=linear; total time=   0.0s\n",
            "[CV] END ............C=100, degree=2, gamma=1, kernel=linear; total time=   0.0s\n",
            "[CV] END ............C=100, degree=2, gamma=1, kernel=linear; total time=   0.0s\n",
            "[CV] END ...............C=100, degree=2, gamma=1, kernel=rbf; total time=   0.2s\n",
            "[CV] END ...............C=100, degree=2, gamma=1, kernel=rbf; total time=   0.2s\n",
            "[CV] END ...............C=100, degree=2, gamma=1, kernel=rbf; total time=   0.2s\n",
            "[CV] END ...............C=100, degree=2, gamma=1, kernel=rbf; total time=   0.2s\n",
            "[CV] END ...............C=100, degree=2, gamma=1, kernel=rbf; total time=   0.2s\n",
            "[CV] END ..............C=100, degree=2, gamma=1, kernel=poly; total time=   0.0s\n",
            "[CV] END ..............C=100, degree=2, gamma=1, kernel=poly; total time=   0.0s\n",
            "[CV] END ..............C=100, degree=2, gamma=1, kernel=poly; total time=   0.0s\n",
            "[CV] END ..............C=100, degree=2, gamma=1, kernel=poly; total time=   0.0s\n",
            "[CV] END ..............C=100, degree=2, gamma=1, kernel=poly; total time=   0.0s\n",
            "[CV] END ...........C=100, degree=2, gamma=1, kernel=sigmoid; total time=   0.1s\n",
            "[CV] END ...........C=100, degree=2, gamma=1, kernel=sigmoid; total time=   0.1s\n",
            "[CV] END ...........C=100, degree=2, gamma=1, kernel=sigmoid; total time=   0.1s\n",
            "[CV] END ...........C=100, degree=2, gamma=1, kernel=sigmoid; total time=   0.1s\n",
            "[CV] END ...........C=100, degree=2, gamma=1, kernel=sigmoid; total time=   0.1s\n",
            "[CV] END ........C=100, degree=4, gamma=0.001, kernel=linear; total time=   0.0s\n",
            "[CV] END ........C=100, degree=4, gamma=0.001, kernel=linear; total time=   0.0s\n",
            "[CV] END ........C=100, degree=4, gamma=0.001, kernel=linear; total time=   0.0s\n",
            "[CV] END ........C=100, degree=4, gamma=0.001, kernel=linear; total time=   0.0s\n",
            "[CV] END ........C=100, degree=4, gamma=0.001, kernel=linear; total time=   0.0s\n",
            "[CV] END ...........C=100, degree=4, gamma=0.001, kernel=rbf; total time=   0.1s\n",
            "[CV] END ...........C=100, degree=4, gamma=0.001, kernel=rbf; total time=   0.1s\n",
            "[CV] END ...........C=100, degree=4, gamma=0.001, kernel=rbf; total time=   0.1s\n",
            "[CV] END ...........C=100, degree=4, gamma=0.001, kernel=rbf; total time=   0.1s\n",
            "[CV] END ...........C=100, degree=4, gamma=0.001, kernel=rbf; total time=   0.1s\n",
            "[CV] END ..........C=100, degree=4, gamma=0.001, kernel=poly; total time=   0.0s\n",
            "[CV] END ..........C=100, degree=4, gamma=0.001, kernel=poly; total time=   0.0s\n",
            "[CV] END ..........C=100, degree=4, gamma=0.001, kernel=poly; total time=   0.0s\n",
            "[CV] END ..........C=100, degree=4, gamma=0.001, kernel=poly; total time=   0.0s\n",
            "[CV] END ..........C=100, degree=4, gamma=0.001, kernel=poly; total time=   0.0s\n",
            "[CV] END .......C=100, degree=4, gamma=0.001, kernel=sigmoid; total time=   0.1s\n",
            "[CV] END .......C=100, degree=4, gamma=0.001, kernel=sigmoid; total time=   0.1s\n",
            "[CV] END .......C=100, degree=4, gamma=0.001, kernel=sigmoid; total time=   0.1s\n",
            "[CV] END .......C=100, degree=4, gamma=0.001, kernel=sigmoid; total time=   0.1s\n",
            "[CV] END .......C=100, degree=4, gamma=0.001, kernel=sigmoid; total time=   0.1s\n",
            "[CV] END .........C=100, degree=4, gamma=0.01, kernel=linear; total time=   0.0s\n",
            "[CV] END .........C=100, degree=4, gamma=0.01, kernel=linear; total time=   0.0s\n",
            "[CV] END .........C=100, degree=4, gamma=0.01, kernel=linear; total time=   0.0s\n",
            "[CV] END .........C=100, degree=4, gamma=0.01, kernel=linear; total time=   0.0s\n",
            "[CV] END .........C=100, degree=4, gamma=0.01, kernel=linear; total time=   0.0s\n",
            "[CV] END ............C=100, degree=4, gamma=0.01, kernel=rbf; total time=   0.2s\n",
            "[CV] END ............C=100, degree=4, gamma=0.01, kernel=rbf; total time=   0.2s\n",
            "[CV] END ............C=100, degree=4, gamma=0.01, kernel=rbf; total time=   0.2s\n",
            "[CV] END ............C=100, degree=4, gamma=0.01, kernel=rbf; total time=   0.2s\n",
            "[CV] END ............C=100, degree=4, gamma=0.01, kernel=rbf; total time=   0.2s\n",
            "[CV] END ...........C=100, degree=4, gamma=0.01, kernel=poly; total time=   0.0s\n",
            "[CV] END ...........C=100, degree=4, gamma=0.01, kernel=poly; total time=   0.0s\n",
            "[CV] END ...........C=100, degree=4, gamma=0.01, kernel=poly; total time=   0.0s\n",
            "[CV] END ...........C=100, degree=4, gamma=0.01, kernel=poly; total time=   0.0s\n",
            "[CV] END ...........C=100, degree=4, gamma=0.01, kernel=poly; total time=   0.0s\n",
            "[CV] END ........C=100, degree=4, gamma=0.01, kernel=sigmoid; total time=   0.1s\n",
            "[CV] END ........C=100, degree=4, gamma=0.01, kernel=sigmoid; total time=   0.1s\n",
            "[CV] END ........C=100, degree=4, gamma=0.01, kernel=sigmoid; total time=   0.1s\n",
            "[CV] END ........C=100, degree=4, gamma=0.01, kernel=sigmoid; total time=   0.1s\n",
            "[CV] END ........C=100, degree=4, gamma=0.01, kernel=sigmoid; total time=   0.2s\n",
            "[CV] END ..........C=100, degree=4, gamma=0.1, kernel=linear; total time=   0.0s\n",
            "[CV] END ..........C=100, degree=4, gamma=0.1, kernel=linear; total time=   0.0s\n",
            "[CV] END ..........C=100, degree=4, gamma=0.1, kernel=linear; total time=   0.0s\n",
            "[CV] END ..........C=100, degree=4, gamma=0.1, kernel=linear; total time=   0.0s\n",
            "[CV] END ..........C=100, degree=4, gamma=0.1, kernel=linear; total time=   0.0s\n",
            "[CV] END .............C=100, degree=4, gamma=0.1, kernel=rbf; total time=   0.2s\n",
            "[CV] END .............C=100, degree=4, gamma=0.1, kernel=rbf; total time=   0.2s\n",
            "[CV] END .............C=100, degree=4, gamma=0.1, kernel=rbf; total time=   0.2s\n",
            "[CV] END .............C=100, degree=4, gamma=0.1, kernel=rbf; total time=   0.3s\n",
            "[CV] END .............C=100, degree=4, gamma=0.1, kernel=rbf; total time=   0.2s\n",
            "[CV] END ............C=100, degree=4, gamma=0.1, kernel=poly; total time=   0.0s\n",
            "[CV] END ............C=100, degree=4, gamma=0.1, kernel=poly; total time=   0.0s\n",
            "[CV] END ............C=100, degree=4, gamma=0.1, kernel=poly; total time=   0.0s\n",
            "[CV] END ............C=100, degree=4, gamma=0.1, kernel=poly; total time=   0.0s\n",
            "[CV] END ............C=100, degree=4, gamma=0.1, kernel=poly; total time=   0.0s\n",
            "[CV] END .........C=100, degree=4, gamma=0.1, kernel=sigmoid; total time=   0.1s\n",
            "[CV] END .........C=100, degree=4, gamma=0.1, kernel=sigmoid; total time=   0.1s\n",
            "[CV] END .........C=100, degree=4, gamma=0.1, kernel=sigmoid; total time=   0.1s\n",
            "[CV] END .........C=100, degree=4, gamma=0.1, kernel=sigmoid; total time=   0.1s\n",
            "[CV] END .........C=100, degree=4, gamma=0.1, kernel=sigmoid; total time=   0.1s\n",
            "[CV] END ............C=100, degree=4, gamma=1, kernel=linear; total time=   0.0s\n",
            "[CV] END ............C=100, degree=4, gamma=1, kernel=linear; total time=   0.0s\n",
            "[CV] END ............C=100, degree=4, gamma=1, kernel=linear; total time=   0.0s\n",
            "[CV] END ............C=100, degree=4, gamma=1, kernel=linear; total time=   0.0s\n",
            "[CV] END ............C=100, degree=4, gamma=1, kernel=linear; total time=   0.0s\n",
            "[CV] END ...............C=100, degree=4, gamma=1, kernel=rbf; total time=   0.2s\n",
            "[CV] END ...............C=100, degree=4, gamma=1, kernel=rbf; total time=   0.2s\n",
            "[CV] END ...............C=100, degree=4, gamma=1, kernel=rbf; total time=   0.2s\n",
            "[CV] END ...............C=100, degree=4, gamma=1, kernel=rbf; total time=   0.2s\n",
            "[CV] END ...............C=100, degree=4, gamma=1, kernel=rbf; total time=   0.2s\n",
            "[CV] END ..............C=100, degree=4, gamma=1, kernel=poly; total time=   0.0s\n",
            "[CV] END ..............C=100, degree=4, gamma=1, kernel=poly; total time=   0.0s\n",
            "[CV] END ..............C=100, degree=4, gamma=1, kernel=poly; total time=   0.0s\n",
            "[CV] END ..............C=100, degree=4, gamma=1, kernel=poly; total time=   0.0s\n",
            "[CV] END ..............C=100, degree=4, gamma=1, kernel=poly; total time=   0.0s\n",
            "[CV] END ...........C=100, degree=4, gamma=1, kernel=sigmoid; total time=   0.1s\n",
            "[CV] END ...........C=100, degree=4, gamma=1, kernel=sigmoid; total time=   0.1s\n",
            "[CV] END ...........C=100, degree=4, gamma=1, kernel=sigmoid; total time=   0.1s\n",
            "[CV] END ...........C=100, degree=4, gamma=1, kernel=sigmoid; total time=   0.1s\n",
            "[CV] END ...........C=100, degree=4, gamma=1, kernel=sigmoid; total time=   0.1s\n"
          ]
        }
      ],
      "source": [
        "from sklearn.model_selection import GridSearchCV\n",
        "np.random.seed(42)\n",
        "\n",
        "grid = {\n",
        "    \"kernel\" : [\"linear\", \"rbf\", \"poly\", \"sigmoid\"],\n",
        "    \"gamma\" : [0.001, 0.01, 0.1, 1],\n",
        "    \"C\" : [0.1, 10, 100],\n",
        "    \"degree\" : [0, 2, 4]\n",
        "}\n",
        "\n",
        "svc = SVC();\n",
        "\n",
        "# Postavljanje GridSearchCV\n",
        "gs_svc = GridSearchCV(estimator=svc,\n",
        "                      param_grid= grid,\n",
        "                      cv=5,\n",
        "                      verbose=2)\n",
        "\n",
        "# Fit GridSearchCV\n",
        "gs_svc.fit(X_train, y_train);"
      ]
    },
    {
      "cell_type": "code",
      "execution_count": 12,
      "metadata": {
        "colab": {
          "base_uri": "https://localhost:8080/"
        },
        "id": "9jSD-ZvW01HQ",
        "outputId": "4ec39076-dfa8-433a-a4a7-fa3e495d20bc"
      },
      "outputs": [
        {
          "output_type": "execute_result",
          "data": {
            "text/plain": [
              "{'C': 10, 'degree': 0, 'gamma': 0.001, 'kernel': 'rbf'}"
            ]
          },
          "metadata": {},
          "execution_count": 12
        }
      ],
      "source": [
        "# najbolji parametri svc\n",
        "gs_svc.best_params_"
      ]
    },
    {
      "cell_type": "code",
      "execution_count": 13,
      "metadata": {
        "colab": {
          "base_uri": "https://localhost:8080/"
        },
        "id": "4vgK-gWz9Yos",
        "outputId": "5867b2cc-6837-4701-a272-685dbcb9462d"
      },
      "outputs": [
        {
          "output_type": "stream",
          "name": "stdout",
          "text": [
            "SVC(C=10, degree=0, gamma=0.001)\n",
            "Accuracy:  0.9888888888888889\n",
            "Precision:  0.9888888888888889\n",
            "Recall:  0.9888888888888889\n",
            "F1 score:  0.9888888888888889 \n",
            "\n"
          ]
        }
      ],
      "source": [
        "# rezultat s najboljim parametrima\n",
        "np.random.seed(42)\n",
        "algoritam = SVC(C= 10, degree= 0, gamma=0.001, kernel=\"rbf\")\n",
        "model, acc, prec, rec, f1 = run_algorithm (algoritam, X_train, X_test, y_train, y_test)\n",
        "result = (model, acc, prec, rec, f1)\n",
        "\n",
        "print_result(result)"
      ]
    },
    {
      "cell_type": "markdown",
      "metadata": {
        "id": "kLZd9yV5AiuY"
      },
      "source": [
        "Dobili smo isti rezultat kao i prvi put."
      ]
    },
    {
      "cell_type": "markdown",
      "metadata": {
        "id": "r4q_pnchAtFM"
      },
      "source": [
        "##KNeighborsClassifier"
      ]
    },
    {
      "cell_type": "code",
      "execution_count": 14,
      "metadata": {
        "colab": {
          "base_uri": "https://localhost:8080/"
        },
        "id": "X-w-SgeDA0gR",
        "outputId": "ef5e50f0-18ac-4ed9-cc5f-9d428c65f6b4"
      },
      "outputs": [
        {
          "output_type": "stream",
          "name": "stdout",
          "text": [
            "Fitting 5 folds for each of 36 candidates, totalling 180 fits\n",
            "[CV] END ...metric=minkowski, n_neighbors=5, weights=uniform; total time=   0.0s\n",
            "[CV] END ...metric=minkowski, n_neighbors=5, weights=uniform; total time=   0.0s\n",
            "[CV] END ...metric=minkowski, n_neighbors=5, weights=uniform; total time=   0.0s\n",
            "[CV] END ...metric=minkowski, n_neighbors=5, weights=uniform; total time=   0.0s\n",
            "[CV] END ...metric=minkowski, n_neighbors=5, weights=uniform; total time=   0.0s\n",
            "[CV] END ..metric=minkowski, n_neighbors=5, weights=distance; total time=   0.0s\n",
            "[CV] END ..metric=minkowski, n_neighbors=5, weights=distance; total time=   0.0s\n",
            "[CV] END ..metric=minkowski, n_neighbors=5, weights=distance; total time=   0.0s\n",
            "[CV] END ..metric=minkowski, n_neighbors=5, weights=distance; total time=   0.0s\n",
            "[CV] END ..metric=minkowski, n_neighbors=5, weights=distance; total time=   0.0s\n",
            "[CV] END ...metric=minkowski, n_neighbors=7, weights=uniform; total time=   0.0s\n",
            "[CV] END ...metric=minkowski, n_neighbors=7, weights=uniform; total time=   0.0s\n",
            "[CV] END ...metric=minkowski, n_neighbors=7, weights=uniform; total time=   0.0s\n",
            "[CV] END ...metric=minkowski, n_neighbors=7, weights=uniform; total time=   0.0s\n",
            "[CV] END ...metric=minkowski, n_neighbors=7, weights=uniform; total time=   0.0s\n",
            "[CV] END ..metric=minkowski, n_neighbors=7, weights=distance; total time=   0.0s\n",
            "[CV] END ..metric=minkowski, n_neighbors=7, weights=distance; total time=   0.0s\n",
            "[CV] END ..metric=minkowski, n_neighbors=7, weights=distance; total time=   0.0s\n",
            "[CV] END ..metric=minkowski, n_neighbors=7, weights=distance; total time=   0.0s\n",
            "[CV] END ..metric=minkowski, n_neighbors=7, weights=distance; total time=   0.0s\n",
            "[CV] END ...metric=minkowski, n_neighbors=9, weights=uniform; total time=   0.0s\n",
            "[CV] END ...metric=minkowski, n_neighbors=9, weights=uniform; total time=   0.0s\n",
            "[CV] END ...metric=minkowski, n_neighbors=9, weights=uniform; total time=   0.0s\n",
            "[CV] END ...metric=minkowski, n_neighbors=9, weights=uniform; total time=   0.0s\n",
            "[CV] END ...metric=minkowski, n_neighbors=9, weights=uniform; total time=   0.0s\n",
            "[CV] END ..metric=minkowski, n_neighbors=9, weights=distance; total time=   0.0s\n",
            "[CV] END ..metric=minkowski, n_neighbors=9, weights=distance; total time=   0.0s\n",
            "[CV] END ..metric=minkowski, n_neighbors=9, weights=distance; total time=   0.0s\n",
            "[CV] END ..metric=minkowski, n_neighbors=9, weights=distance; total time=   0.0s\n",
            "[CV] END ..metric=minkowski, n_neighbors=9, weights=distance; total time=   0.0s\n",
            "[CV] END ..metric=minkowski, n_neighbors=11, weights=uniform; total time=   0.0s\n",
            "[CV] END ..metric=minkowski, n_neighbors=11, weights=uniform; total time=   0.0s\n",
            "[CV] END ..metric=minkowski, n_neighbors=11, weights=uniform; total time=   0.0s\n",
            "[CV] END ..metric=minkowski, n_neighbors=11, weights=uniform; total time=   0.0s\n",
            "[CV] END ..metric=minkowski, n_neighbors=11, weights=uniform; total time=   0.0s\n",
            "[CV] END .metric=minkowski, n_neighbors=11, weights=distance; total time=   0.0s\n",
            "[CV] END .metric=minkowski, n_neighbors=11, weights=distance; total time=   0.0s\n",
            "[CV] END .metric=minkowski, n_neighbors=11, weights=distance; total time=   0.0s\n",
            "[CV] END .metric=minkowski, n_neighbors=11, weights=distance; total time=   0.0s\n",
            "[CV] END .metric=minkowski, n_neighbors=11, weights=distance; total time=   0.0s\n",
            "[CV] END ..metric=minkowski, n_neighbors=13, weights=uniform; total time=   0.0s\n",
            "[CV] END ..metric=minkowski, n_neighbors=13, weights=uniform; total time=   0.0s\n",
            "[CV] END ..metric=minkowski, n_neighbors=13, weights=uniform; total time=   0.0s\n",
            "[CV] END ..metric=minkowski, n_neighbors=13, weights=uniform; total time=   0.0s\n",
            "[CV] END ..metric=minkowski, n_neighbors=13, weights=uniform; total time=   0.0s\n",
            "[CV] END .metric=minkowski, n_neighbors=13, weights=distance; total time=   0.0s\n",
            "[CV] END .metric=minkowski, n_neighbors=13, weights=distance; total time=   0.0s\n",
            "[CV] END .metric=minkowski, n_neighbors=13, weights=distance; total time=   0.0s\n",
            "[CV] END .metric=minkowski, n_neighbors=13, weights=distance; total time=   0.0s\n",
            "[CV] END .metric=minkowski, n_neighbors=13, weights=distance; total time=   0.0s\n",
            "[CV] END ..metric=minkowski, n_neighbors=15, weights=uniform; total time=   0.0s\n",
            "[CV] END ..metric=minkowski, n_neighbors=15, weights=uniform; total time=   0.0s\n",
            "[CV] END ..metric=minkowski, n_neighbors=15, weights=uniform; total time=   0.0s\n",
            "[CV] END ..metric=minkowski, n_neighbors=15, weights=uniform; total time=   0.0s\n",
            "[CV] END ..metric=minkowski, n_neighbors=15, weights=uniform; total time=   0.0s\n",
            "[CV] END .metric=minkowski, n_neighbors=15, weights=distance; total time=   0.0s\n",
            "[CV] END .metric=minkowski, n_neighbors=15, weights=distance; total time=   0.0s\n",
            "[CV] END .metric=minkowski, n_neighbors=15, weights=distance; total time=   0.0s\n",
            "[CV] END .metric=minkowski, n_neighbors=15, weights=distance; total time=   0.0s\n",
            "[CV] END .metric=minkowski, n_neighbors=15, weights=distance; total time=   0.0s\n",
            "[CV] END ...metric=euclidean, n_neighbors=5, weights=uniform; total time=   0.0s\n",
            "[CV] END ...metric=euclidean, n_neighbors=5, weights=uniform; total time=   0.0s\n",
            "[CV] END ...metric=euclidean, n_neighbors=5, weights=uniform; total time=   0.0s\n",
            "[CV] END ...metric=euclidean, n_neighbors=5, weights=uniform; total time=   0.0s\n",
            "[CV] END ...metric=euclidean, n_neighbors=5, weights=uniform; total time=   0.0s\n",
            "[CV] END ..metric=euclidean, n_neighbors=5, weights=distance; total time=   0.0s\n",
            "[CV] END ..metric=euclidean, n_neighbors=5, weights=distance; total time=   0.0s\n",
            "[CV] END ..metric=euclidean, n_neighbors=5, weights=distance; total time=   0.0s\n",
            "[CV] END ..metric=euclidean, n_neighbors=5, weights=distance; total time=   0.0s\n",
            "[CV] END ..metric=euclidean, n_neighbors=5, weights=distance; total time=   0.0s\n",
            "[CV] END ...metric=euclidean, n_neighbors=7, weights=uniform; total time=   0.0s\n",
            "[CV] END ...metric=euclidean, n_neighbors=7, weights=uniform; total time=   0.0s\n",
            "[CV] END ...metric=euclidean, n_neighbors=7, weights=uniform; total time=   0.0s\n",
            "[CV] END ...metric=euclidean, n_neighbors=7, weights=uniform; total time=   0.0s\n",
            "[CV] END ...metric=euclidean, n_neighbors=7, weights=uniform; total time=   0.0s\n",
            "[CV] END ..metric=euclidean, n_neighbors=7, weights=distance; total time=   0.0s\n",
            "[CV] END ..metric=euclidean, n_neighbors=7, weights=distance; total time=   0.0s\n",
            "[CV] END ..metric=euclidean, n_neighbors=7, weights=distance; total time=   0.0s\n",
            "[CV] END ..metric=euclidean, n_neighbors=7, weights=distance; total time=   0.0s\n",
            "[CV] END ..metric=euclidean, n_neighbors=7, weights=distance; total time=   0.0s\n",
            "[CV] END ...metric=euclidean, n_neighbors=9, weights=uniform; total time=   0.0s\n",
            "[CV] END ...metric=euclidean, n_neighbors=9, weights=uniform; total time=   0.0s\n",
            "[CV] END ...metric=euclidean, n_neighbors=9, weights=uniform; total time=   0.0s\n",
            "[CV] END ...metric=euclidean, n_neighbors=9, weights=uniform; total time=   0.0s\n",
            "[CV] END ...metric=euclidean, n_neighbors=9, weights=uniform; total time=   0.0s\n",
            "[CV] END ..metric=euclidean, n_neighbors=9, weights=distance; total time=   0.0s\n",
            "[CV] END ..metric=euclidean, n_neighbors=9, weights=distance; total time=   0.0s\n",
            "[CV] END ..metric=euclidean, n_neighbors=9, weights=distance; total time=   0.0s\n",
            "[CV] END ..metric=euclidean, n_neighbors=9, weights=distance; total time=   0.0s\n",
            "[CV] END ..metric=euclidean, n_neighbors=9, weights=distance; total time=   0.0s\n",
            "[CV] END ..metric=euclidean, n_neighbors=11, weights=uniform; total time=   0.0s\n",
            "[CV] END ..metric=euclidean, n_neighbors=11, weights=uniform; total time=   0.0s\n",
            "[CV] END ..metric=euclidean, n_neighbors=11, weights=uniform; total time=   0.0s\n",
            "[CV] END ..metric=euclidean, n_neighbors=11, weights=uniform; total time=   0.0s\n",
            "[CV] END ..metric=euclidean, n_neighbors=11, weights=uniform; total time=   0.0s\n",
            "[CV] END .metric=euclidean, n_neighbors=11, weights=distance; total time=   0.0s\n",
            "[CV] END .metric=euclidean, n_neighbors=11, weights=distance; total time=   0.0s\n",
            "[CV] END .metric=euclidean, n_neighbors=11, weights=distance; total time=   0.0s\n",
            "[CV] END .metric=euclidean, n_neighbors=11, weights=distance; total time=   0.0s\n",
            "[CV] END .metric=euclidean, n_neighbors=11, weights=distance; total time=   0.0s\n",
            "[CV] END ..metric=euclidean, n_neighbors=13, weights=uniform; total time=   0.0s\n",
            "[CV] END ..metric=euclidean, n_neighbors=13, weights=uniform; total time=   0.0s\n",
            "[CV] END ..metric=euclidean, n_neighbors=13, weights=uniform; total time=   0.0s\n",
            "[CV] END ..metric=euclidean, n_neighbors=13, weights=uniform; total time=   0.0s\n",
            "[CV] END ..metric=euclidean, n_neighbors=13, weights=uniform; total time=   0.0s\n",
            "[CV] END .metric=euclidean, n_neighbors=13, weights=distance; total time=   0.0s\n",
            "[CV] END .metric=euclidean, n_neighbors=13, weights=distance; total time=   0.0s\n",
            "[CV] END .metric=euclidean, n_neighbors=13, weights=distance; total time=   0.0s\n",
            "[CV] END .metric=euclidean, n_neighbors=13, weights=distance; total time=   0.0s\n",
            "[CV] END .metric=euclidean, n_neighbors=13, weights=distance; total time=   0.0s\n",
            "[CV] END ..metric=euclidean, n_neighbors=15, weights=uniform; total time=   0.0s\n",
            "[CV] END ..metric=euclidean, n_neighbors=15, weights=uniform; total time=   0.0s\n",
            "[CV] END ..metric=euclidean, n_neighbors=15, weights=uniform; total time=   0.0s\n",
            "[CV] END ..metric=euclidean, n_neighbors=15, weights=uniform; total time=   0.0s\n",
            "[CV] END ..metric=euclidean, n_neighbors=15, weights=uniform; total time=   0.0s\n",
            "[CV] END .metric=euclidean, n_neighbors=15, weights=distance; total time=   0.0s\n",
            "[CV] END .metric=euclidean, n_neighbors=15, weights=distance; total time=   0.0s\n",
            "[CV] END .metric=euclidean, n_neighbors=15, weights=distance; total time=   0.0s\n",
            "[CV] END .metric=euclidean, n_neighbors=15, weights=distance; total time=   0.0s\n",
            "[CV] END .metric=euclidean, n_neighbors=15, weights=distance; total time=   0.0s\n",
            "[CV] END ...metric=manhattan, n_neighbors=5, weights=uniform; total time=   0.0s\n",
            "[CV] END ...metric=manhattan, n_neighbors=5, weights=uniform; total time=   0.0s\n",
            "[CV] END ...metric=manhattan, n_neighbors=5, weights=uniform; total time=   0.0s\n",
            "[CV] END ...metric=manhattan, n_neighbors=5, weights=uniform; total time=   0.0s\n",
            "[CV] END ...metric=manhattan, n_neighbors=5, weights=uniform; total time=   0.0s\n",
            "[CV] END ..metric=manhattan, n_neighbors=5, weights=distance; total time=   0.0s\n",
            "[CV] END ..metric=manhattan, n_neighbors=5, weights=distance; total time=   0.0s\n",
            "[CV] END ..metric=manhattan, n_neighbors=5, weights=distance; total time=   0.0s\n",
            "[CV] END ..metric=manhattan, n_neighbors=5, weights=distance; total time=   0.0s\n",
            "[CV] END ..metric=manhattan, n_neighbors=5, weights=distance; total time=   0.0s\n",
            "[CV] END ...metric=manhattan, n_neighbors=7, weights=uniform; total time=   0.0s\n",
            "[CV] END ...metric=manhattan, n_neighbors=7, weights=uniform; total time=   0.0s\n",
            "[CV] END ...metric=manhattan, n_neighbors=7, weights=uniform; total time=   0.0s\n",
            "[CV] END ...metric=manhattan, n_neighbors=7, weights=uniform; total time=   0.0s\n",
            "[CV] END ...metric=manhattan, n_neighbors=7, weights=uniform; total time=   0.0s\n",
            "[CV] END ..metric=manhattan, n_neighbors=7, weights=distance; total time=   0.0s\n",
            "[CV] END ..metric=manhattan, n_neighbors=7, weights=distance; total time=   0.0s\n",
            "[CV] END ..metric=manhattan, n_neighbors=7, weights=distance; total time=   0.0s\n",
            "[CV] END ..metric=manhattan, n_neighbors=7, weights=distance; total time=   0.0s\n",
            "[CV] END ..metric=manhattan, n_neighbors=7, weights=distance; total time=   0.0s\n",
            "[CV] END ...metric=manhattan, n_neighbors=9, weights=uniform; total time=   0.0s\n",
            "[CV] END ...metric=manhattan, n_neighbors=9, weights=uniform; total time=   0.0s\n",
            "[CV] END ...metric=manhattan, n_neighbors=9, weights=uniform; total time=   0.0s\n",
            "[CV] END ...metric=manhattan, n_neighbors=9, weights=uniform; total time=   0.0s\n",
            "[CV] END ...metric=manhattan, n_neighbors=9, weights=uniform; total time=   0.0s\n",
            "[CV] END ..metric=manhattan, n_neighbors=9, weights=distance; total time=   0.0s\n",
            "[CV] END ..metric=manhattan, n_neighbors=9, weights=distance; total time=   0.0s\n",
            "[CV] END ..metric=manhattan, n_neighbors=9, weights=distance; total time=   0.0s\n",
            "[CV] END ..metric=manhattan, n_neighbors=9, weights=distance; total time=   0.0s\n",
            "[CV] END ..metric=manhattan, n_neighbors=9, weights=distance; total time=   0.0s\n",
            "[CV] END ..metric=manhattan, n_neighbors=11, weights=uniform; total time=   0.0s\n",
            "[CV] END ..metric=manhattan, n_neighbors=11, weights=uniform; total time=   0.0s\n",
            "[CV] END ..metric=manhattan, n_neighbors=11, weights=uniform; total time=   0.0s\n",
            "[CV] END ..metric=manhattan, n_neighbors=11, weights=uniform; total time=   0.0s\n",
            "[CV] END ..metric=manhattan, n_neighbors=11, weights=uniform; total time=   0.0s\n",
            "[CV] END .metric=manhattan, n_neighbors=11, weights=distance; total time=   0.0s\n",
            "[CV] END .metric=manhattan, n_neighbors=11, weights=distance; total time=   0.0s\n",
            "[CV] END .metric=manhattan, n_neighbors=11, weights=distance; total time=   0.0s\n",
            "[CV] END .metric=manhattan, n_neighbors=11, weights=distance; total time=   0.0s\n",
            "[CV] END .metric=manhattan, n_neighbors=11, weights=distance; total time=   0.0s\n",
            "[CV] END ..metric=manhattan, n_neighbors=13, weights=uniform; total time=   0.0s\n",
            "[CV] END ..metric=manhattan, n_neighbors=13, weights=uniform; total time=   0.0s\n",
            "[CV] END ..metric=manhattan, n_neighbors=13, weights=uniform; total time=   0.0s\n",
            "[CV] END ..metric=manhattan, n_neighbors=13, weights=uniform; total time=   0.0s\n",
            "[CV] END ..metric=manhattan, n_neighbors=13, weights=uniform; total time=   0.0s\n",
            "[CV] END .metric=manhattan, n_neighbors=13, weights=distance; total time=   0.0s\n",
            "[CV] END .metric=manhattan, n_neighbors=13, weights=distance; total time=   0.0s\n",
            "[CV] END .metric=manhattan, n_neighbors=13, weights=distance; total time=   0.0s\n",
            "[CV] END .metric=manhattan, n_neighbors=13, weights=distance; total time=   0.0s\n",
            "[CV] END .metric=manhattan, n_neighbors=13, weights=distance; total time=   0.0s\n",
            "[CV] END ..metric=manhattan, n_neighbors=15, weights=uniform; total time=   0.0s\n",
            "[CV] END ..metric=manhattan, n_neighbors=15, weights=uniform; total time=   0.0s\n",
            "[CV] END ..metric=manhattan, n_neighbors=15, weights=uniform; total time=   0.0s\n",
            "[CV] END ..metric=manhattan, n_neighbors=15, weights=uniform; total time=   0.0s\n",
            "[CV] END ..metric=manhattan, n_neighbors=15, weights=uniform; total time=   0.0s\n",
            "[CV] END .metric=manhattan, n_neighbors=15, weights=distance; total time=   0.0s\n",
            "[CV] END .metric=manhattan, n_neighbors=15, weights=distance; total time=   0.0s\n",
            "[CV] END .metric=manhattan, n_neighbors=15, weights=distance; total time=   0.0s\n",
            "[CV] END .metric=manhattan, n_neighbors=15, weights=distance; total time=   0.0s\n",
            "[CV] END .metric=manhattan, n_neighbors=15, weights=distance; total time=   0.0s\n"
          ]
        }
      ],
      "source": [
        "from sklearn.model_selection import GridSearchCV\n",
        "np.random.seed(42)\n",
        "\n",
        "grid_params = { 'n_neighbors' : [5,7,9,11,13,15],\n",
        "               'weights' : ['uniform','distance'],\n",
        "               'metric' : ['minkowski','euclidean','manhattan']}\n",
        "\n",
        "\n",
        "knn = KNeighborsClassifier()\n",
        "\n",
        "# Postavljanje GridSearchCV\n",
        "gs_knn = GridSearchCV(estimator=knn,\n",
        "                      param_grid= grid_params,\n",
        "                      cv=5,\n",
        "                      verbose=2)\n",
        "\n",
        "# Fit GridSearchCV\n",
        "gs_knn.fit(X_train, y_train);"
      ]
    },
    {
      "cell_type": "code",
      "execution_count": 15,
      "metadata": {
        "colab": {
          "base_uri": "https://localhost:8080/"
        },
        "id": "8OZFZ35IFZnh",
        "outputId": "9a3fac87-f13d-4636-ea05-9e19802a6f37"
      },
      "outputs": [
        {
          "output_type": "execute_result",
          "data": {
            "text/plain": [
              "{'metric': 'minkowski', 'n_neighbors': 5, 'weights': 'distance'}"
            ]
          },
          "metadata": {},
          "execution_count": 15
        }
      ],
      "source": [
        "# najbolji parametri knn\n",
        "gs_knn.best_params_"
      ]
    },
    {
      "cell_type": "code",
      "execution_count": 16,
      "metadata": {
        "colab": {
          "base_uri": "https://localhost:8080/"
        },
        "id": "6xXwZTA1FeBQ",
        "outputId": "7613b5d9-7381-42fb-8178-4066c6fb692e"
      },
      "outputs": [
        {
          "output_type": "stream",
          "name": "stdout",
          "text": [
            "KNeighborsClassifier(weights='distance')\n",
            "Accuracy:  0.9861111111111112\n",
            "Precision:  0.9861111111111112\n",
            "Recall:  0.9861111111111112\n",
            "F1 score:  0.9861111111111112 \n",
            "\n"
          ]
        }
      ],
      "source": [
        "# rezultat s najboljim parametrima\n",
        "np.random.seed(42)\n",
        "algoritam = KNeighborsClassifier(metric=\"minkowski\", n_neighbors=5, weights=\"distance\")\n",
        "model, acc, prec, rec, f1 = run_algorithm (algoritam, X_train, X_test, y_train, y_test)\n",
        "result = (model, acc, prec, rec, f1)\n",
        "\n",
        "print_result(result);"
      ]
    },
    {
      "cell_type": "markdown",
      "metadata": {
        "id": "ZYDdgMpOrTYg"
      },
      "source": [
        "Isti rezultat kao i prvi put."
      ]
    },
    {
      "cell_type": "markdown",
      "metadata": {
        "id": "YkQ65u2GF8kZ"
      },
      "source": [
        "##RandomForestClassifier"
      ]
    },
    {
      "cell_type": "code",
      "execution_count": 17,
      "metadata": {
        "colab": {
          "base_uri": "https://localhost:8080/"
        },
        "id": "pmau9nvKF4jv",
        "outputId": "7b0651fb-f8c1-44dd-8dae-2602e3f2dce8"
      },
      "outputs": [
        {
          "output_type": "stream",
          "name": "stdout",
          "text": [
            "Fitting 5 folds for each of 48 candidates, totalling 240 fits\n",
            "[CV] END max_depth=None, max_features=auto, min_samples_leaf=1, min_samples_split=2, n_estimators=100; total time=   0.4s\n",
            "[CV] END max_depth=None, max_features=auto, min_samples_leaf=1, min_samples_split=2, n_estimators=100; total time=   0.3s\n",
            "[CV] END max_depth=None, max_features=auto, min_samples_leaf=1, min_samples_split=2, n_estimators=100; total time=   0.3s\n",
            "[CV] END max_depth=None, max_features=auto, min_samples_leaf=1, min_samples_split=2, n_estimators=100; total time=   0.3s\n",
            "[CV] END max_depth=None, max_features=auto, min_samples_leaf=1, min_samples_split=2, n_estimators=100; total time=   0.3s\n",
            "[CV] END max_depth=None, max_features=auto, min_samples_leaf=1, min_samples_split=2, n_estimators=200; total time=   0.7s\n",
            "[CV] END max_depth=None, max_features=auto, min_samples_leaf=1, min_samples_split=2, n_estimators=200; total time=   1.0s\n",
            "[CV] END max_depth=None, max_features=auto, min_samples_leaf=1, min_samples_split=2, n_estimators=200; total time=   1.0s\n",
            "[CV] END max_depth=None, max_features=auto, min_samples_leaf=1, min_samples_split=2, n_estimators=200; total time=   0.8s\n",
            "[CV] END max_depth=None, max_features=auto, min_samples_leaf=1, min_samples_split=2, n_estimators=200; total time=   0.7s\n",
            "[CV] END max_depth=None, max_features=auto, min_samples_leaf=1, min_samples_split=2, n_estimators=1000; total time=   5.4s\n",
            "[CV] END max_depth=None, max_features=auto, min_samples_leaf=1, min_samples_split=2, n_estimators=1000; total time=   3.2s\n",
            "[CV] END max_depth=None, max_features=auto, min_samples_leaf=1, min_samples_split=2, n_estimators=1000; total time=   3.2s\n",
            "[CV] END max_depth=None, max_features=auto, min_samples_leaf=1, min_samples_split=2, n_estimators=1000; total time=   3.2s\n",
            "[CV] END max_depth=None, max_features=auto, min_samples_leaf=1, min_samples_split=2, n_estimators=1000; total time=   3.2s\n",
            "[CV] END max_depth=None, max_features=auto, min_samples_leaf=1, min_samples_split=6, n_estimators=100; total time=   0.3s\n",
            "[CV] END max_depth=None, max_features=auto, min_samples_leaf=1, min_samples_split=6, n_estimators=100; total time=   0.3s\n",
            "[CV] END max_depth=None, max_features=auto, min_samples_leaf=1, min_samples_split=6, n_estimators=100; total time=   0.3s\n",
            "[CV] END max_depth=None, max_features=auto, min_samples_leaf=1, min_samples_split=6, n_estimators=100; total time=   0.3s\n",
            "[CV] END max_depth=None, max_features=auto, min_samples_leaf=1, min_samples_split=6, n_estimators=100; total time=   0.3s\n",
            "[CV] END max_depth=None, max_features=auto, min_samples_leaf=1, min_samples_split=6, n_estimators=200; total time=   0.6s\n",
            "[CV] END max_depth=None, max_features=auto, min_samples_leaf=1, min_samples_split=6, n_estimators=200; total time=   0.6s\n",
            "[CV] END max_depth=None, max_features=auto, min_samples_leaf=1, min_samples_split=6, n_estimators=200; total time=   0.6s\n",
            "[CV] END max_depth=None, max_features=auto, min_samples_leaf=1, min_samples_split=6, n_estimators=200; total time=   0.6s\n",
            "[CV] END max_depth=None, max_features=auto, min_samples_leaf=1, min_samples_split=6, n_estimators=200; total time=   0.6s\n",
            "[CV] END max_depth=None, max_features=auto, min_samples_leaf=1, min_samples_split=6, n_estimators=1000; total time=   3.1s\n",
            "[CV] END max_depth=None, max_features=auto, min_samples_leaf=1, min_samples_split=6, n_estimators=1000; total time=   3.1s\n",
            "[CV] END max_depth=None, max_features=auto, min_samples_leaf=1, min_samples_split=6, n_estimators=1000; total time=   3.1s\n",
            "[CV] END max_depth=None, max_features=auto, min_samples_leaf=1, min_samples_split=6, n_estimators=1000; total time=   3.1s\n",
            "[CV] END max_depth=None, max_features=auto, min_samples_leaf=1, min_samples_split=6, n_estimators=1000; total time=   3.1s\n",
            "[CV] END max_depth=None, max_features=auto, min_samples_leaf=2, min_samples_split=2, n_estimators=100; total time=   0.3s\n",
            "[CV] END max_depth=None, max_features=auto, min_samples_leaf=2, min_samples_split=2, n_estimators=100; total time=   0.3s\n",
            "[CV] END max_depth=None, max_features=auto, min_samples_leaf=2, min_samples_split=2, n_estimators=100; total time=   0.3s\n",
            "[CV] END max_depth=None, max_features=auto, min_samples_leaf=2, min_samples_split=2, n_estimators=100; total time=   0.3s\n",
            "[CV] END max_depth=None, max_features=auto, min_samples_leaf=2, min_samples_split=2, n_estimators=100; total time=   0.3s\n",
            "[CV] END max_depth=None, max_features=auto, min_samples_leaf=2, min_samples_split=2, n_estimators=200; total time=   0.6s\n",
            "[CV] END max_depth=None, max_features=auto, min_samples_leaf=2, min_samples_split=2, n_estimators=200; total time=   0.6s\n",
            "[CV] END max_depth=None, max_features=auto, min_samples_leaf=2, min_samples_split=2, n_estimators=200; total time=   0.6s\n",
            "[CV] END max_depth=None, max_features=auto, min_samples_leaf=2, min_samples_split=2, n_estimators=200; total time=   0.6s\n",
            "[CV] END max_depth=None, max_features=auto, min_samples_leaf=2, min_samples_split=2, n_estimators=200; total time=   0.6s\n",
            "[CV] END max_depth=None, max_features=auto, min_samples_leaf=2, min_samples_split=2, n_estimators=1000; total time=   3.1s\n",
            "[CV] END max_depth=None, max_features=auto, min_samples_leaf=2, min_samples_split=2, n_estimators=1000; total time=   3.1s\n",
            "[CV] END max_depth=None, max_features=auto, min_samples_leaf=2, min_samples_split=2, n_estimators=1000; total time=   3.1s\n",
            "[CV] END max_depth=None, max_features=auto, min_samples_leaf=2, min_samples_split=2, n_estimators=1000; total time=   3.2s\n",
            "[CV] END max_depth=None, max_features=auto, min_samples_leaf=2, min_samples_split=2, n_estimators=1000; total time=   3.1s\n",
            "[CV] END max_depth=None, max_features=auto, min_samples_leaf=2, min_samples_split=6, n_estimators=100; total time=   0.3s\n",
            "[CV] END max_depth=None, max_features=auto, min_samples_leaf=2, min_samples_split=6, n_estimators=100; total time=   0.3s\n",
            "[CV] END max_depth=None, max_features=auto, min_samples_leaf=2, min_samples_split=6, n_estimators=100; total time=   0.3s\n",
            "[CV] END max_depth=None, max_features=auto, min_samples_leaf=2, min_samples_split=6, n_estimators=100; total time=   0.3s\n",
            "[CV] END max_depth=None, max_features=auto, min_samples_leaf=2, min_samples_split=6, n_estimators=100; total time=   0.3s\n",
            "[CV] END max_depth=None, max_features=auto, min_samples_leaf=2, min_samples_split=6, n_estimators=200; total time=   0.6s\n",
            "[CV] END max_depth=None, max_features=auto, min_samples_leaf=2, min_samples_split=6, n_estimators=200; total time=   0.6s\n",
            "[CV] END max_depth=None, max_features=auto, min_samples_leaf=2, min_samples_split=6, n_estimators=200; total time=   0.6s\n",
            "[CV] END max_depth=None, max_features=auto, min_samples_leaf=2, min_samples_split=6, n_estimators=200; total time=   0.6s\n",
            "[CV] END max_depth=None, max_features=auto, min_samples_leaf=2, min_samples_split=6, n_estimators=200; total time=   0.6s\n",
            "[CV] END max_depth=None, max_features=auto, min_samples_leaf=2, min_samples_split=6, n_estimators=1000; total time=   3.0s\n",
            "[CV] END max_depth=None, max_features=auto, min_samples_leaf=2, min_samples_split=6, n_estimators=1000; total time=   3.0s\n",
            "[CV] END max_depth=None, max_features=auto, min_samples_leaf=2, min_samples_split=6, n_estimators=1000; total time=   3.0s\n",
            "[CV] END max_depth=None, max_features=auto, min_samples_leaf=2, min_samples_split=6, n_estimators=1000; total time=   3.0s\n",
            "[CV] END max_depth=None, max_features=auto, min_samples_leaf=2, min_samples_split=6, n_estimators=1000; total time=   3.0s\n",
            "[CV] END max_depth=None, max_features=sqrt, min_samples_leaf=1, min_samples_split=2, n_estimators=100; total time=   0.3s\n",
            "[CV] END max_depth=None, max_features=sqrt, min_samples_leaf=1, min_samples_split=2, n_estimators=100; total time=   0.3s\n",
            "[CV] END max_depth=None, max_features=sqrt, min_samples_leaf=1, min_samples_split=2, n_estimators=100; total time=   0.3s\n",
            "[CV] END max_depth=None, max_features=sqrt, min_samples_leaf=1, min_samples_split=2, n_estimators=100; total time=   0.3s\n",
            "[CV] END max_depth=None, max_features=sqrt, min_samples_leaf=1, min_samples_split=2, n_estimators=100; total time=   0.3s\n",
            "[CV] END max_depth=None, max_features=sqrt, min_samples_leaf=1, min_samples_split=2, n_estimators=200; total time=   0.6s\n",
            "[CV] END max_depth=None, max_features=sqrt, min_samples_leaf=1, min_samples_split=2, n_estimators=200; total time=   0.6s\n",
            "[CV] END max_depth=None, max_features=sqrt, min_samples_leaf=1, min_samples_split=2, n_estimators=200; total time=   0.7s\n",
            "[CV] END max_depth=None, max_features=sqrt, min_samples_leaf=1, min_samples_split=2, n_estimators=200; total time=   0.6s\n",
            "[CV] END max_depth=None, max_features=sqrt, min_samples_leaf=1, min_samples_split=2, n_estimators=200; total time=   0.6s\n",
            "[CV] END max_depth=None, max_features=sqrt, min_samples_leaf=1, min_samples_split=2, n_estimators=1000; total time=   3.2s\n",
            "[CV] END max_depth=None, max_features=sqrt, min_samples_leaf=1, min_samples_split=2, n_estimators=1000; total time=   3.2s\n",
            "[CV] END max_depth=None, max_features=sqrt, min_samples_leaf=1, min_samples_split=2, n_estimators=1000; total time=   3.1s\n",
            "[CV] END max_depth=None, max_features=sqrt, min_samples_leaf=1, min_samples_split=2, n_estimators=1000; total time=   3.2s\n",
            "[CV] END max_depth=None, max_features=sqrt, min_samples_leaf=1, min_samples_split=2, n_estimators=1000; total time=   3.3s\n",
            "[CV] END max_depth=None, max_features=sqrt, min_samples_leaf=1, min_samples_split=6, n_estimators=100; total time=   0.3s\n",
            "[CV] END max_depth=None, max_features=sqrt, min_samples_leaf=1, min_samples_split=6, n_estimators=100; total time=   0.3s\n",
            "[CV] END max_depth=None, max_features=sqrt, min_samples_leaf=1, min_samples_split=6, n_estimators=100; total time=   0.3s\n",
            "[CV] END max_depth=None, max_features=sqrt, min_samples_leaf=1, min_samples_split=6, n_estimators=100; total time=   0.3s\n",
            "[CV] END max_depth=None, max_features=sqrt, min_samples_leaf=1, min_samples_split=6, n_estimators=100; total time=   0.3s\n",
            "[CV] END max_depth=None, max_features=sqrt, min_samples_leaf=1, min_samples_split=6, n_estimators=200; total time=   0.6s\n",
            "[CV] END max_depth=None, max_features=sqrt, min_samples_leaf=1, min_samples_split=6, n_estimators=200; total time=   0.6s\n",
            "[CV] END max_depth=None, max_features=sqrt, min_samples_leaf=1, min_samples_split=6, n_estimators=200; total time=   0.6s\n",
            "[CV] END max_depth=None, max_features=sqrt, min_samples_leaf=1, min_samples_split=6, n_estimators=200; total time=   0.6s\n",
            "[CV] END max_depth=None, max_features=sqrt, min_samples_leaf=1, min_samples_split=6, n_estimators=200; total time=   0.6s\n",
            "[CV] END max_depth=None, max_features=sqrt, min_samples_leaf=1, min_samples_split=6, n_estimators=1000; total time=   3.1s\n",
            "[CV] END max_depth=None, max_features=sqrt, min_samples_leaf=1, min_samples_split=6, n_estimators=1000; total time=   3.1s\n",
            "[CV] END max_depth=None, max_features=sqrt, min_samples_leaf=1, min_samples_split=6, n_estimators=1000; total time=   3.2s\n",
            "[CV] END max_depth=None, max_features=sqrt, min_samples_leaf=1, min_samples_split=6, n_estimators=1000; total time=   3.1s\n",
            "[CV] END max_depth=None, max_features=sqrt, min_samples_leaf=1, min_samples_split=6, n_estimators=1000; total time=   3.1s\n",
            "[CV] END max_depth=None, max_features=sqrt, min_samples_leaf=2, min_samples_split=2, n_estimators=100; total time=   0.3s\n",
            "[CV] END max_depth=None, max_features=sqrt, min_samples_leaf=2, min_samples_split=2, n_estimators=100; total time=   0.3s\n",
            "[CV] END max_depth=None, max_features=sqrt, min_samples_leaf=2, min_samples_split=2, n_estimators=100; total time=   0.3s\n",
            "[CV] END max_depth=None, max_features=sqrt, min_samples_leaf=2, min_samples_split=2, n_estimators=100; total time=   0.3s\n",
            "[CV] END max_depth=None, max_features=sqrt, min_samples_leaf=2, min_samples_split=2, n_estimators=100; total time=   0.3s\n",
            "[CV] END max_depth=None, max_features=sqrt, min_samples_leaf=2, min_samples_split=2, n_estimators=200; total time=   0.6s\n",
            "[CV] END max_depth=None, max_features=sqrt, min_samples_leaf=2, min_samples_split=2, n_estimators=200; total time=   0.6s\n",
            "[CV] END max_depth=None, max_features=sqrt, min_samples_leaf=2, min_samples_split=2, n_estimators=200; total time=   0.6s\n",
            "[CV] END max_depth=None, max_features=sqrt, min_samples_leaf=2, min_samples_split=2, n_estimators=200; total time=   0.6s\n",
            "[CV] END max_depth=None, max_features=sqrt, min_samples_leaf=2, min_samples_split=2, n_estimators=200; total time=   0.6s\n",
            "[CV] END max_depth=None, max_features=sqrt, min_samples_leaf=2, min_samples_split=2, n_estimators=1000; total time=   3.1s\n",
            "[CV] END max_depth=None, max_features=sqrt, min_samples_leaf=2, min_samples_split=2, n_estimators=1000; total time=   3.1s\n",
            "[CV] END max_depth=None, max_features=sqrt, min_samples_leaf=2, min_samples_split=2, n_estimators=1000; total time=   3.1s\n",
            "[CV] END max_depth=None, max_features=sqrt, min_samples_leaf=2, min_samples_split=2, n_estimators=1000; total time=   3.1s\n",
            "[CV] END max_depth=None, max_features=sqrt, min_samples_leaf=2, min_samples_split=2, n_estimators=1000; total time=   3.1s\n",
            "[CV] END max_depth=None, max_features=sqrt, min_samples_leaf=2, min_samples_split=6, n_estimators=100; total time=   0.3s\n",
            "[CV] END max_depth=None, max_features=sqrt, min_samples_leaf=2, min_samples_split=6, n_estimators=100; total time=   0.3s\n",
            "[CV] END max_depth=None, max_features=sqrt, min_samples_leaf=2, min_samples_split=6, n_estimators=100; total time=   0.3s\n",
            "[CV] END max_depth=None, max_features=sqrt, min_samples_leaf=2, min_samples_split=6, n_estimators=100; total time=   0.3s\n",
            "[CV] END max_depth=None, max_features=sqrt, min_samples_leaf=2, min_samples_split=6, n_estimators=100; total time=   0.3s\n",
            "[CV] END max_depth=None, max_features=sqrt, min_samples_leaf=2, min_samples_split=6, n_estimators=200; total time=   0.6s\n",
            "[CV] END max_depth=None, max_features=sqrt, min_samples_leaf=2, min_samples_split=6, n_estimators=200; total time=   0.6s\n",
            "[CV] END max_depth=None, max_features=sqrt, min_samples_leaf=2, min_samples_split=6, n_estimators=200; total time=   0.6s\n",
            "[CV] END max_depth=None, max_features=sqrt, min_samples_leaf=2, min_samples_split=6, n_estimators=200; total time=   0.6s\n",
            "[CV] END max_depth=None, max_features=sqrt, min_samples_leaf=2, min_samples_split=6, n_estimators=200; total time=   0.6s\n",
            "[CV] END max_depth=None, max_features=sqrt, min_samples_leaf=2, min_samples_split=6, n_estimators=1000; total time=   3.1s\n",
            "[CV] END max_depth=None, max_features=sqrt, min_samples_leaf=2, min_samples_split=6, n_estimators=1000; total time=   3.0s\n",
            "[CV] END max_depth=None, max_features=sqrt, min_samples_leaf=2, min_samples_split=6, n_estimators=1000; total time=   3.1s\n",
            "[CV] END max_depth=None, max_features=sqrt, min_samples_leaf=2, min_samples_split=6, n_estimators=1000; total time=   3.1s\n",
            "[CV] END max_depth=None, max_features=sqrt, min_samples_leaf=2, min_samples_split=6, n_estimators=1000; total time=   3.2s\n",
            "[CV] END max_depth=10, max_features=auto, min_samples_leaf=1, min_samples_split=2, n_estimators=100; total time=   0.3s\n",
            "[CV] END max_depth=10, max_features=auto, min_samples_leaf=1, min_samples_split=2, n_estimators=100; total time=   0.3s\n",
            "[CV] END max_depth=10, max_features=auto, min_samples_leaf=1, min_samples_split=2, n_estimators=100; total time=   0.3s\n",
            "[CV] END max_depth=10, max_features=auto, min_samples_leaf=1, min_samples_split=2, n_estimators=100; total time=   0.3s\n",
            "[CV] END max_depth=10, max_features=auto, min_samples_leaf=1, min_samples_split=2, n_estimators=100; total time=   0.3s\n",
            "[CV] END max_depth=10, max_features=auto, min_samples_leaf=1, min_samples_split=2, n_estimators=200; total time=   0.6s\n",
            "[CV] END max_depth=10, max_features=auto, min_samples_leaf=1, min_samples_split=2, n_estimators=200; total time=   0.6s\n",
            "[CV] END max_depth=10, max_features=auto, min_samples_leaf=1, min_samples_split=2, n_estimators=200; total time=   0.7s\n",
            "[CV] END max_depth=10, max_features=auto, min_samples_leaf=1, min_samples_split=2, n_estimators=200; total time=   0.6s\n",
            "[CV] END max_depth=10, max_features=auto, min_samples_leaf=1, min_samples_split=2, n_estimators=200; total time=   0.7s\n",
            "[CV] END max_depth=10, max_features=auto, min_samples_leaf=1, min_samples_split=2, n_estimators=1000; total time=   3.2s\n",
            "[CV] END max_depth=10, max_features=auto, min_samples_leaf=1, min_samples_split=2, n_estimators=1000; total time=   3.2s\n",
            "[CV] END max_depth=10, max_features=auto, min_samples_leaf=1, min_samples_split=2, n_estimators=1000; total time=   3.2s\n",
            "[CV] END max_depth=10, max_features=auto, min_samples_leaf=1, min_samples_split=2, n_estimators=1000; total time=   3.1s\n",
            "[CV] END max_depth=10, max_features=auto, min_samples_leaf=1, min_samples_split=2, n_estimators=1000; total time=   3.2s\n",
            "[CV] END max_depth=10, max_features=auto, min_samples_leaf=1, min_samples_split=6, n_estimators=100; total time=   0.3s\n",
            "[CV] END max_depth=10, max_features=auto, min_samples_leaf=1, min_samples_split=6, n_estimators=100; total time=   0.3s\n",
            "[CV] END max_depth=10, max_features=auto, min_samples_leaf=1, min_samples_split=6, n_estimators=100; total time=   0.3s\n",
            "[CV] END max_depth=10, max_features=auto, min_samples_leaf=1, min_samples_split=6, n_estimators=100; total time=   0.3s\n",
            "[CV] END max_depth=10, max_features=auto, min_samples_leaf=1, min_samples_split=6, n_estimators=100; total time=   0.3s\n",
            "[CV] END max_depth=10, max_features=auto, min_samples_leaf=1, min_samples_split=6, n_estimators=200; total time=   0.6s\n",
            "[CV] END max_depth=10, max_features=auto, min_samples_leaf=1, min_samples_split=6, n_estimators=200; total time=   0.6s\n",
            "[CV] END max_depth=10, max_features=auto, min_samples_leaf=1, min_samples_split=6, n_estimators=200; total time=   0.6s\n",
            "[CV] END max_depth=10, max_features=auto, min_samples_leaf=1, min_samples_split=6, n_estimators=200; total time=   0.6s\n",
            "[CV] END max_depth=10, max_features=auto, min_samples_leaf=1, min_samples_split=6, n_estimators=200; total time=   0.6s\n",
            "[CV] END max_depth=10, max_features=auto, min_samples_leaf=1, min_samples_split=6, n_estimators=1000; total time=   3.1s\n",
            "[CV] END max_depth=10, max_features=auto, min_samples_leaf=1, min_samples_split=6, n_estimators=1000; total time=   3.1s\n",
            "[CV] END max_depth=10, max_features=auto, min_samples_leaf=1, min_samples_split=6, n_estimators=1000; total time=   3.1s\n",
            "[CV] END max_depth=10, max_features=auto, min_samples_leaf=1, min_samples_split=6, n_estimators=1000; total time=   3.2s\n",
            "[CV] END max_depth=10, max_features=auto, min_samples_leaf=1, min_samples_split=6, n_estimators=1000; total time=   3.1s\n",
            "[CV] END max_depth=10, max_features=auto, min_samples_leaf=2, min_samples_split=2, n_estimators=100; total time=   0.3s\n",
            "[CV] END max_depth=10, max_features=auto, min_samples_leaf=2, min_samples_split=2, n_estimators=100; total time=   0.3s\n",
            "[CV] END max_depth=10, max_features=auto, min_samples_leaf=2, min_samples_split=2, n_estimators=100; total time=   0.3s\n",
            "[CV] END max_depth=10, max_features=auto, min_samples_leaf=2, min_samples_split=2, n_estimators=100; total time=   0.3s\n",
            "[CV] END max_depth=10, max_features=auto, min_samples_leaf=2, min_samples_split=2, n_estimators=100; total time=   0.3s\n",
            "[CV] END max_depth=10, max_features=auto, min_samples_leaf=2, min_samples_split=2, n_estimators=200; total time=   0.6s\n",
            "[CV] END max_depth=10, max_features=auto, min_samples_leaf=2, min_samples_split=2, n_estimators=200; total time=   0.6s\n",
            "[CV] END max_depth=10, max_features=auto, min_samples_leaf=2, min_samples_split=2, n_estimators=200; total time=   0.6s\n",
            "[CV] END max_depth=10, max_features=auto, min_samples_leaf=2, min_samples_split=2, n_estimators=200; total time=   0.6s\n",
            "[CV] END max_depth=10, max_features=auto, min_samples_leaf=2, min_samples_split=2, n_estimators=200; total time=   0.6s\n",
            "[CV] END max_depth=10, max_features=auto, min_samples_leaf=2, min_samples_split=2, n_estimators=1000; total time=   3.1s\n",
            "[CV] END max_depth=10, max_features=auto, min_samples_leaf=2, min_samples_split=2, n_estimators=1000; total time=   3.1s\n",
            "[CV] END max_depth=10, max_features=auto, min_samples_leaf=2, min_samples_split=2, n_estimators=1000; total time=   3.1s\n",
            "[CV] END max_depth=10, max_features=auto, min_samples_leaf=2, min_samples_split=2, n_estimators=1000; total time=   3.1s\n",
            "[CV] END max_depth=10, max_features=auto, min_samples_leaf=2, min_samples_split=2, n_estimators=1000; total time=   3.1s\n",
            "[CV] END max_depth=10, max_features=auto, min_samples_leaf=2, min_samples_split=6, n_estimators=100; total time=   0.3s\n",
            "[CV] END max_depth=10, max_features=auto, min_samples_leaf=2, min_samples_split=6, n_estimators=100; total time=   0.3s\n",
            "[CV] END max_depth=10, max_features=auto, min_samples_leaf=2, min_samples_split=6, n_estimators=100; total time=   0.3s\n",
            "[CV] END max_depth=10, max_features=auto, min_samples_leaf=2, min_samples_split=6, n_estimators=100; total time=   0.3s\n",
            "[CV] END max_depth=10, max_features=auto, min_samples_leaf=2, min_samples_split=6, n_estimators=100; total time=   0.3s\n",
            "[CV] END max_depth=10, max_features=auto, min_samples_leaf=2, min_samples_split=6, n_estimators=200; total time=   0.6s\n",
            "[CV] END max_depth=10, max_features=auto, min_samples_leaf=2, min_samples_split=6, n_estimators=200; total time=   0.6s\n",
            "[CV] END max_depth=10, max_features=auto, min_samples_leaf=2, min_samples_split=6, n_estimators=200; total time=   0.6s\n",
            "[CV] END max_depth=10, max_features=auto, min_samples_leaf=2, min_samples_split=6, n_estimators=200; total time=   0.6s\n",
            "[CV] END max_depth=10, max_features=auto, min_samples_leaf=2, min_samples_split=6, n_estimators=200; total time=   0.6s\n",
            "[CV] END max_depth=10, max_features=auto, min_samples_leaf=2, min_samples_split=6, n_estimators=1000; total time=   3.1s\n",
            "[CV] END max_depth=10, max_features=auto, min_samples_leaf=2, min_samples_split=6, n_estimators=1000; total time=   3.0s\n",
            "[CV] END max_depth=10, max_features=auto, min_samples_leaf=2, min_samples_split=6, n_estimators=1000; total time=   3.0s\n",
            "[CV] END max_depth=10, max_features=auto, min_samples_leaf=2, min_samples_split=6, n_estimators=1000; total time=   3.0s\n",
            "[CV] END max_depth=10, max_features=auto, min_samples_leaf=2, min_samples_split=6, n_estimators=1000; total time=   3.1s\n",
            "[CV] END max_depth=10, max_features=sqrt, min_samples_leaf=1, min_samples_split=2, n_estimators=100; total time=   0.3s\n",
            "[CV] END max_depth=10, max_features=sqrt, min_samples_leaf=1, min_samples_split=2, n_estimators=100; total time=   0.3s\n",
            "[CV] END max_depth=10, max_features=sqrt, min_samples_leaf=1, min_samples_split=2, n_estimators=100; total time=   0.3s\n",
            "[CV] END max_depth=10, max_features=sqrt, min_samples_leaf=1, min_samples_split=2, n_estimators=100; total time=   0.3s\n",
            "[CV] END max_depth=10, max_features=sqrt, min_samples_leaf=1, min_samples_split=2, n_estimators=100; total time=   0.3s\n",
            "[CV] END max_depth=10, max_features=sqrt, min_samples_leaf=1, min_samples_split=2, n_estimators=200; total time=   0.7s\n",
            "[CV] END max_depth=10, max_features=sqrt, min_samples_leaf=1, min_samples_split=2, n_estimators=200; total time=   0.6s\n",
            "[CV] END max_depth=10, max_features=sqrt, min_samples_leaf=1, min_samples_split=2, n_estimators=200; total time=   0.6s\n",
            "[CV] END max_depth=10, max_features=sqrt, min_samples_leaf=1, min_samples_split=2, n_estimators=200; total time=   0.7s\n",
            "[CV] END max_depth=10, max_features=sqrt, min_samples_leaf=1, min_samples_split=2, n_estimators=200; total time=   0.6s\n",
            "[CV] END max_depth=10, max_features=sqrt, min_samples_leaf=1, min_samples_split=2, n_estimators=1000; total time=   3.2s\n",
            "[CV] END max_depth=10, max_features=sqrt, min_samples_leaf=1, min_samples_split=2, n_estimators=1000; total time=   3.2s\n",
            "[CV] END max_depth=10, max_features=sqrt, min_samples_leaf=1, min_samples_split=2, n_estimators=1000; total time=   3.2s\n",
            "[CV] END max_depth=10, max_features=sqrt, min_samples_leaf=1, min_samples_split=2, n_estimators=1000; total time=   3.2s\n",
            "[CV] END max_depth=10, max_features=sqrt, min_samples_leaf=1, min_samples_split=2, n_estimators=1000; total time=   3.1s\n",
            "[CV] END max_depth=10, max_features=sqrt, min_samples_leaf=1, min_samples_split=6, n_estimators=100; total time=   0.3s\n",
            "[CV] END max_depth=10, max_features=sqrt, min_samples_leaf=1, min_samples_split=6, n_estimators=100; total time=   0.3s\n",
            "[CV] END max_depth=10, max_features=sqrt, min_samples_leaf=1, min_samples_split=6, n_estimators=100; total time=   0.3s\n",
            "[CV] END max_depth=10, max_features=sqrt, min_samples_leaf=1, min_samples_split=6, n_estimators=100; total time=   0.3s\n",
            "[CV] END max_depth=10, max_features=sqrt, min_samples_leaf=1, min_samples_split=6, n_estimators=100; total time=   0.3s\n",
            "[CV] END max_depth=10, max_features=sqrt, min_samples_leaf=1, min_samples_split=6, n_estimators=200; total time=   0.6s\n",
            "[CV] END max_depth=10, max_features=sqrt, min_samples_leaf=1, min_samples_split=6, n_estimators=200; total time=   0.6s\n",
            "[CV] END max_depth=10, max_features=sqrt, min_samples_leaf=1, min_samples_split=6, n_estimators=200; total time=   0.6s\n",
            "[CV] END max_depth=10, max_features=sqrt, min_samples_leaf=1, min_samples_split=6, n_estimators=200; total time=   0.6s\n",
            "[CV] END max_depth=10, max_features=sqrt, min_samples_leaf=1, min_samples_split=6, n_estimators=200; total time=   0.6s\n",
            "[CV] END max_depth=10, max_features=sqrt, min_samples_leaf=1, min_samples_split=6, n_estimators=1000; total time=   3.1s\n",
            "[CV] END max_depth=10, max_features=sqrt, min_samples_leaf=1, min_samples_split=6, n_estimators=1000; total time=   3.1s\n",
            "[CV] END max_depth=10, max_features=sqrt, min_samples_leaf=1, min_samples_split=6, n_estimators=1000; total time=   3.0s\n",
            "[CV] END max_depth=10, max_features=sqrt, min_samples_leaf=1, min_samples_split=6, n_estimators=1000; total time=   3.2s\n",
            "[CV] END max_depth=10, max_features=sqrt, min_samples_leaf=1, min_samples_split=6, n_estimators=1000; total time=   3.1s\n",
            "[CV] END max_depth=10, max_features=sqrt, min_samples_leaf=2, min_samples_split=2, n_estimators=100; total time=   0.3s\n",
            "[CV] END max_depth=10, max_features=sqrt, min_samples_leaf=2, min_samples_split=2, n_estimators=100; total time=   0.3s\n",
            "[CV] END max_depth=10, max_features=sqrt, min_samples_leaf=2, min_samples_split=2, n_estimators=100; total time=   0.3s\n",
            "[CV] END max_depth=10, max_features=sqrt, min_samples_leaf=2, min_samples_split=2, n_estimators=100; total time=   0.3s\n",
            "[CV] END max_depth=10, max_features=sqrt, min_samples_leaf=2, min_samples_split=2, n_estimators=100; total time=   0.3s\n",
            "[CV] END max_depth=10, max_features=sqrt, min_samples_leaf=2, min_samples_split=2, n_estimators=200; total time=   0.6s\n",
            "[CV] END max_depth=10, max_features=sqrt, min_samples_leaf=2, min_samples_split=2, n_estimators=200; total time=   0.6s\n",
            "[CV] END max_depth=10, max_features=sqrt, min_samples_leaf=2, min_samples_split=2, n_estimators=200; total time=   0.6s\n",
            "[CV] END max_depth=10, max_features=sqrt, min_samples_leaf=2, min_samples_split=2, n_estimators=200; total time=   0.6s\n",
            "[CV] END max_depth=10, max_features=sqrt, min_samples_leaf=2, min_samples_split=2, n_estimators=200; total time=   0.6s\n",
            "[CV] END max_depth=10, max_features=sqrt, min_samples_leaf=2, min_samples_split=2, n_estimators=1000; total time=   3.1s\n",
            "[CV] END max_depth=10, max_features=sqrt, min_samples_leaf=2, min_samples_split=2, n_estimators=1000; total time=   3.1s\n",
            "[CV] END max_depth=10, max_features=sqrt, min_samples_leaf=2, min_samples_split=2, n_estimators=1000; total time=   3.0s\n",
            "[CV] END max_depth=10, max_features=sqrt, min_samples_leaf=2, min_samples_split=2, n_estimators=1000; total time=   3.1s\n",
            "[CV] END max_depth=10, max_features=sqrt, min_samples_leaf=2, min_samples_split=2, n_estimators=1000; total time=   3.1s\n",
            "[CV] END max_depth=10, max_features=sqrt, min_samples_leaf=2, min_samples_split=6, n_estimators=100; total time=   0.3s\n",
            "[CV] END max_depth=10, max_features=sqrt, min_samples_leaf=2, min_samples_split=6, n_estimators=100; total time=   0.3s\n",
            "[CV] END max_depth=10, max_features=sqrt, min_samples_leaf=2, min_samples_split=6, n_estimators=100; total time=   0.3s\n",
            "[CV] END max_depth=10, max_features=sqrt, min_samples_leaf=2, min_samples_split=6, n_estimators=100; total time=   0.4s\n",
            "[CV] END max_depth=10, max_features=sqrt, min_samples_leaf=2, min_samples_split=6, n_estimators=100; total time=   0.5s\n",
            "[CV] END max_depth=10, max_features=sqrt, min_samples_leaf=2, min_samples_split=6, n_estimators=200; total time=   1.0s\n",
            "[CV] END max_depth=10, max_features=sqrt, min_samples_leaf=2, min_samples_split=6, n_estimators=200; total time=   0.8s\n",
            "[CV] END max_depth=10, max_features=sqrt, min_samples_leaf=2, min_samples_split=6, n_estimators=200; total time=   0.6s\n",
            "[CV] END max_depth=10, max_features=sqrt, min_samples_leaf=2, min_samples_split=6, n_estimators=200; total time=   0.6s\n",
            "[CV] END max_depth=10, max_features=sqrt, min_samples_leaf=2, min_samples_split=6, n_estimators=200; total time=   0.6s\n",
            "[CV] END max_depth=10, max_features=sqrt, min_samples_leaf=2, min_samples_split=6, n_estimators=1000; total time=   3.0s\n",
            "[CV] END max_depth=10, max_features=sqrt, min_samples_leaf=2, min_samples_split=6, n_estimators=1000; total time=   3.1s\n",
            "[CV] END max_depth=10, max_features=sqrt, min_samples_leaf=2, min_samples_split=6, n_estimators=1000; total time=   3.0s\n",
            "[CV] END max_depth=10, max_features=sqrt, min_samples_leaf=2, min_samples_split=6, n_estimators=1000; total time=   3.0s\n",
            "[CV] END max_depth=10, max_features=sqrt, min_samples_leaf=2, min_samples_split=6, n_estimators=1000; total time=   3.1s\n"
          ]
        }
      ],
      "source": [
        "from sklearn.model_selection import GridSearchCV\n",
        "np.random.seed(42)\n",
        "\n",
        "grid_params = { 'n_estimators' : [100, 200, 1000],\n",
        "                \"max_depth\": [None, 10],\n",
        "                \"max_features\" : [\"auto\", \"sqrt\"],\n",
        "                \"min_samples_split\" : [2, 6],\n",
        "                \"min_samples_leaf\" : [1, 2]\n",
        "               }\n",
        "\n",
        "rfc = RandomForestClassifier()\n",
        "\n",
        "# Postavljanje GridSearchCV\n",
        "gs_rfc = GridSearchCV(estimator=rfc,\n",
        "                      param_grid= grid_params,\n",
        "                      cv=5,\n",
        "                      verbose=2)\n",
        "\n",
        "# Fit GridSearchCV\n",
        "gs_rfc.fit(X_train, y_train);"
      ]
    },
    {
      "cell_type": "code",
      "execution_count": 18,
      "metadata": {
        "colab": {
          "base_uri": "https://localhost:8080/"
        },
        "id": "8y8Ea3feG24e",
        "outputId": "dbc857cf-f074-4037-9e3d-93f451d251be"
      },
      "outputs": [
        {
          "output_type": "execute_result",
          "data": {
            "text/plain": [
              "{'max_depth': None,\n",
              " 'max_features': 'sqrt',\n",
              " 'min_samples_leaf': 1,\n",
              " 'min_samples_split': 2,\n",
              " 'n_estimators': 200}"
            ]
          },
          "metadata": {},
          "execution_count": 18
        }
      ],
      "source": [
        "# najbolji parametri rfc\n",
        "gs_rfc.best_params_"
      ]
    },
    {
      "cell_type": "code",
      "execution_count": 19,
      "metadata": {
        "colab": {
          "base_uri": "https://localhost:8080/"
        },
        "id": "WKoUfXFlG7iI",
        "outputId": "9f0d3ee8-76ab-4082-ec6f-7898a1c11cad"
      },
      "outputs": [
        {
          "output_type": "stream",
          "name": "stdout",
          "text": [
            "RandomForestClassifier(max_features='sqrt', n_estimators=1000)\n",
            "Accuracy:  0.9777777777777777\n",
            "Precision:  0.9777777777777777\n",
            "Recall:  0.9777777777777777\n",
            "F1 score:  0.9777777777777777 \n",
            "\n"
          ]
        }
      ],
      "source": [
        "# rezultat s najboljim parametrima\n",
        "np.random.seed(42)\n",
        "algoritam = RandomForestClassifier(max_depth=None,\n",
        "                                   max_features='sqrt',\n",
        "                                   min_samples_leaf= 1,\n",
        "                                   min_samples_split= 2,\n",
        "                                   n_estimators= 1000)\n",
        "model, acc, prec, rec, f1 = run_algorithm (algoritam, X_train, X_test, y_train, y_test)\n",
        "result = (model, acc, prec, rec, f1)\n",
        "\n",
        "print_result(result)"
      ]
    },
    {
      "cell_type": "markdown",
      "metadata": {
        "id": "jDJntzAEWOOY"
      },
      "source": [
        "Dobili smo bolji rezulatat nego prije za isti algoritam, ali jos nedovoljno da je najbolji.\n",
        "\n",
        "I dalje vidimo da nam je najbolji algoritam bio: `SVC(gamma=0.001, random_state=42)`"
      ]
    },
    {
      "cell_type": "markdown",
      "metadata": {
        "id": "K14KP3gpi8uu"
      },
      "source": [
        "Najbolji model (SVC)"
      ]
    },
    {
      "cell_type": "code",
      "execution_count": 20,
      "metadata": {
        "colab": {
          "base_uri": "https://localhost:8080/"
        },
        "id": "vjv3ihEgi_-u",
        "outputId": "dbd9678e-2586-40ed-809e-c8e24fd69a3a"
      },
      "outputs": [
        {
          "output_type": "stream",
          "name": "stdout",
          "text": [
            "SVC(gamma=0.001, random_state=42)\n",
            "Accuracy:  0.9888888888888889\n",
            "Precision:  0.9888888888888889\n",
            "Recall:  0.9888888888888889\n",
            "F1 score:  0.9888888888888889 \n",
            "\n"
          ]
        }
      ],
      "source": [
        "np.random.seed(42)\n",
        "algoritam = SVC(gamma=0.001, random_state=42)\n",
        "\n",
        "model, acc, prec, rec, f1 = run_algorithm (algoritam, X_train, X_test, y_train, y_test)\n",
        "result = (model, acc, prec, rec, f1)\n",
        "\n",
        "print_result(result)"
      ]
    },
    {
      "cell_type": "code",
      "execution_count": 21,
      "metadata": {
        "colab": {
          "base_uri": "https://localhost:8080/"
        },
        "id": "sRsBZrt5gTuw",
        "outputId": "575175ef-d1da-47ee-e3a8-3c51ec0dda4e"
      },
      "outputs": [
        {
          "output_type": "stream",
          "name": "stdout",
          "text": [
            "Predikcije: [6 9 3 7 2 1 5 2 5 2 1 9 4 0 4 2 3 7 8 8 4 3 9 7 5 6 3 5 6 3 4 9 1 4 4 6 9\n",
            " 4 7 6 6 9 1 3 6 1 3 0 6 5 5 1 9 5 6 0 9 0 0 1 0 4 5 2 4 5 7 0 7 5 9 5 5 4\n",
            " 7 0 4 5 5 9 9 0 2 3 8 0 6 4 4 9 1 2 8 3 5 2 9 0 4 4 4 3 5 3 1 3 5 9 4 2 7\n",
            " 7 4 4 1 9 2 7 8 7 2 6 9 4 0 7 2 7 5 8 7 5 7 9]\n",
            "Stvarne oznake: [6 9 3 7 2 1 5 2 5 2 1 9 4 0 4 2 3 7 8 8 4 3 9 7 5 6 3 5 6 3 4 9 1 4 4 6 9\n",
            " 4 7 6 6 9 1 3 6 1 3 0 6 5 5 1 9 5 6 0 9 0 0 1 0 4 5 2 4 5 7 0 7 5 9 5 5 4\n",
            " 7 0 4 5 5 9 9 0 2 3 8 0 6 4 4 9 1 2 8 3 5 2 9 0 4 4 4 3 5 3 1 3 5 9 4 2 7\n",
            " 7 4 4 1 9 2 7 8 7 2 6 9 4 0 7 2 7 5 8 7 5 7 7]\n"
          ]
        },
        {
          "output_type": "execute_result",
          "data": {
            "text/plain": [
              "False"
            ]
          },
          "metadata": {},
          "execution_count": 21
        }
      ],
      "source": [
        "# Predikcija na testnim podacima\n",
        "predictions = model.predict(X_test[:134])\n",
        "\n",
        "# Print predikcija kao oznake\n",
        "print(f\"Predikcije: {predictions}\")\n",
        "# Print stvarne oznake\n",
        "print(f\"Stvarne oznake: {y_test[:134]}\")\n",
        "\n",
        "(predictions == y_test[:134]).all()"
      ]
    },
    {
      "cell_type": "code",
      "source": [
        "X_train, X_test, y_train, y_test = train_test_split(digits.images, digits.target, test_size=0.2, random_state=42)\n",
        "\n",
        "# Prikaz prve krive predikcije (stvarna vrijednost 7, a predvidjelo je 9)\n",
        "plt.imshow(X_test[133])\n",
        "print(f\"Oznaka: {y_test[133]}\")"
      ],
      "metadata": {
        "colab": {
          "base_uri": "https://localhost:8080/",
          "height": 282
        },
        "id": "L968rCQuayVt",
        "outputId": "3fb37846-7cef-4d4d-d139-87516e65dfd9"
      },
      "execution_count": 22,
      "outputs": [
        {
          "output_type": "stream",
          "name": "stdout",
          "text": [
            "Oznaka: 7\n"
          ]
        },
        {
          "output_type": "display_data",
          "data": {
            "text/plain": [
              "<Figure size 432x288 with 1 Axes>"
            ],
            "image/png": "[encoded data removed]"
          },
          "metadata": {
            "needs_background": "light"
          }
        }
      ]
    },
    {
      "cell_type": "markdown",
      "metadata": {
        "id": "8zpd__BDbDi-"
      },
      "source": [
        "# Convolutional Neural Networks (CNN)"
      ]
    },
    {
      "cell_type": "markdown",
      "metadata": {
        "id": "RvxOXSK1n3bX"
      },
      "source": [
        "## 1) Preuzimanje slika "
      ]
    },
    {
      "cell_type": "code",
      "execution_count": 23,
      "metadata": {
        "id": "AkA47U2ZbQW7"
      },
      "outputs": [],
      "source": [
        "#Import biblioteka\n",
        "import tensorflow as tf\n",
        "from tensorflow import keras\n",
        "from keras.layers import Conv2D, Flatten, Dense"
      ]
    },
    {
      "cell_type": "code",
      "execution_count": 24,
      "metadata": {
        "id": "RfgMQrUBcGCU"
      },
      "outputs": [],
      "source": [
        "#Dohvacanje slika\n",
        "digits = datasets.load_digits()"
      ]
    },
    {
      "cell_type": "code",
      "execution_count": 25,
      "metadata": {
        "id": "q7B1y_Rall8B"
      },
      "outputs": [],
      "source": [
        "# Podjela na train i test skupove\n",
        "from sklearn.model_selection import train_test_split\n",
        "\n",
        "X_train, X_test, y_train, y_test = train_test_split(digits.images, digits.target, test_size=0.2, random_state=42)"
      ]
    },
    {
      "cell_type": "code",
      "execution_count": 26,
      "metadata": {
        "colab": {
          "base_uri": "https://localhost:8080/"
        },
        "id": "7JnmVGy8mq77",
        "outputId": "819dcff9-fe0f-432e-eb8c-cbd44403af5c"
      },
      "outputs": [
        {
          "output_type": "execute_result",
          "data": {
            "text/plain": [
              "((1437, 8, 8), (360, 8, 8), (1437,), (360,))"
            ]
          },
          "metadata": {},
          "execution_count": 26
        }
      ],
      "source": [
        "# Get shape\n",
        "X_train.shape, X_test.shape, y_train.shape, y_test.shape"
      ]
    },
    {
      "cell_type": "code",
      "execution_count": 27,
      "metadata": {
        "colab": {
          "base_uri": "https://localhost:8080/",
          "height": 282
        },
        "id": "zP0MhOokbdhL",
        "outputId": "e8a32700-754c-4d10-cd16-cd8552eac0fd"
      },
      "outputs": [
        {
          "output_type": "stream",
          "name": "stdout",
          "text": [
            "Oznaka: 6\n"
          ]
        },
        {
          "output_type": "display_data",
          "data": {
            "text/plain": [
              "<Figure size 432x288 with 1 Axes>"
            ],
            "image/png": "[encoded data removed]"
          },
          "metadata": {
            "needs_background": "light"
          }
        }
      ],
      "source": [
        "# Prikaz prve slike i oznake skupa za treniranje\n",
        "plt.imshow(X_train[0])\n",
        "print(f\"Oznaka: {y_train[0]}\")"
      ]
    },
    {
      "cell_type": "markdown",
      "metadata": {
        "id": "bFlTThfXnxs9"
      },
      "source": [
        "## 2) Priprema slika"
      ]
    },
    {
      "cell_type": "code",
      "execution_count": 28,
      "metadata": {
        "id": "0NJBv3yBnPUX"
      },
      "outputs": [],
      "source": [
        "# Preoblikujmo podatke da bi odgovarale modelu\n",
        "train_images = X_train.reshape(1437, 8, 8, 1)\n",
        "test_images = X_test.reshape(360, 8, 8, 1)"
      ]
    },
    {
      "cell_type": "code",
      "execution_count": 29,
      "metadata": {
        "colab": {
          "base_uri": "https://localhost:8080/"
        },
        "id": "iW83Dt1Cofuz",
        "outputId": "0ee67864-e33f-41ed-c74a-b8ac92c332a8"
      },
      "outputs": [
        {
          "output_type": "execute_result",
          "data": {
            "text/plain": [
              "array([0., 0., 0., 0., 0., 0., 1., 0., 0., 0.], dtype=float32)"
            ]
          },
          "metadata": {},
          "execution_count": 29
        }
      ],
      "source": [
        "# One-Hot Encoding:\n",
        "train_labels = keras.utils.to_categorical(y_train)\n",
        "test_labels = keras.utils.to_categorical(y_test)\n",
        "\n",
        "# Nova oznaka za isti podatak\n",
        "train_labels[0]"
      ]
    },
    {
      "cell_type": "markdown",
      "metadata": {
        "id": "fTOb2s1arUp2"
      },
      "source": [
        "## 3) Arhitektura mreze"
      ]
    },
    {
      "cell_type": "code",
      "execution_count": 30,
      "metadata": {
        "id": "vd4SkBtprYuI"
      },
      "outputs": [],
      "source": [
        "# CNN model\n",
        "model = tf.keras.Sequential()\n",
        "\n",
        "# Dodavanje layera\n",
        "model.add(Conv2D(64, kernel_size=3, activation=\"relu\", input_shape=(8, 8, 1)))\n",
        "model.add(Conv2D(32, kernel_size=3, activation=\"relu\"))\n",
        "model.add(Flatten())\n",
        "model.add(Dense(10, activation=\"softmax\"))  # 10 jer imamo 10 razlicitih oznaka"
      ]
    },
    {
      "cell_type": "markdown",
      "metadata": {
        "id": "iPGczNixs9SG"
      },
      "source": [
        "\n",
        "## 4) Odabir optimizacijskog algoritma"
      ]
    },
    {
      "cell_type": "code",
      "execution_count": 31,
      "metadata": {
        "id": "0Tgo2EIpsrfK"
      },
      "outputs": [],
      "source": [
        "model.compile(optimizer = 'adam', loss = 'categorical_crossentropy', metrics=['accuracy'])"
      ]
    },
    {
      "cell_type": "markdown",
      "metadata": {
        "id": "jl-nAf2ttBPP"
      },
      "source": [
        "## 5) Treniranje"
      ]
    },
    {
      "cell_type": "code",
      "execution_count": 32,
      "metadata": {
        "colab": {
          "base_uri": "https://localhost:8080/"
        },
        "id": "0Gd9tLUDtDcO",
        "outputId": "590d15f4-02f4-4002-c632-d7bca83edeb0"
      },
      "outputs": [
        {
          "output_type": "stream",
          "name": "stdout",
          "text": [
            "Epoch 1/20\n",
            "45/45 [==============================] - 1s 13ms/step - loss: 0.8818 - accuracy: 0.7370 - val_loss: 0.2181 - val_accuracy: 0.9194\n",
            "Epoch 2/20\n",
            "45/45 [==============================] - 0s 8ms/step - loss: 0.2282 - accuracy: 0.9290 - val_loss: 0.1303 - val_accuracy: 0.9722\n",
            "Epoch 3/20\n",
            "45/45 [==============================] - 0s 8ms/step - loss: 0.1155 - accuracy: 0.9708 - val_loss: 0.1011 - val_accuracy: 0.9639\n",
            "Epoch 4/20\n",
            "45/45 [==============================] - 0s 8ms/step - loss: 0.0764 - accuracy: 0.9840 - val_loss: 0.0842 - val_accuracy: 0.9806\n",
            "Epoch 5/20\n",
            "45/45 [==============================] - 0s 9ms/step - loss: 0.0554 - accuracy: 0.9882 - val_loss: 0.0845 - val_accuracy: 0.9750\n",
            "Epoch 6/20\n",
            "45/45 [==============================] - 0s 8ms/step - loss: 0.0369 - accuracy: 0.9930 - val_loss: 0.0755 - val_accuracy: 0.9778\n",
            "Epoch 7/20\n",
            "45/45 [==============================] - 0s 8ms/step - loss: 0.0284 - accuracy: 0.9930 - val_loss: 0.0604 - val_accuracy: 0.9806\n",
            "Epoch 8/20\n",
            "45/45 [==============================] - 0s 7ms/step - loss: 0.0215 - accuracy: 0.9944 - val_loss: 0.0605 - val_accuracy: 0.9861\n",
            "Epoch 9/20\n",
            "45/45 [==============================] - 0s 7ms/step - loss: 0.0119 - accuracy: 0.9986 - val_loss: 0.0618 - val_accuracy: 0.9861\n",
            "Epoch 10/20\n",
            "45/45 [==============================] - 0s 9ms/step - loss: 0.0077 - accuracy: 1.0000 - val_loss: 0.0578 - val_accuracy: 0.9833\n",
            "Epoch 11/20\n",
            "45/45 [==============================] - 0s 9ms/step - loss: 0.0051 - accuracy: 1.0000 - val_loss: 0.0568 - val_accuracy: 0.9833\n",
            "Epoch 12/20\n",
            "45/45 [==============================] - 0s 7ms/step - loss: 0.0035 - accuracy: 1.0000 - val_loss: 0.0589 - val_accuracy: 0.9861\n",
            "Epoch 13/20\n",
            "45/45 [==============================] - 0s 9ms/step - loss: 0.0028 - accuracy: 1.0000 - val_loss: 0.0570 - val_accuracy: 0.9861\n",
            "Epoch 14/20\n",
            "45/45 [==============================] - 0s 8ms/step - loss: 0.0024 - accuracy: 1.0000 - val_loss: 0.0627 - val_accuracy: 0.9861\n",
            "Epoch 15/20\n",
            "45/45 [==============================] - 0s 8ms/step - loss: 0.0021 - accuracy: 1.0000 - val_loss: 0.0570 - val_accuracy: 0.9861\n",
            "Epoch 16/20\n",
            "45/45 [==============================] - 0s 8ms/step - loss: 0.0018 - accuracy: 1.0000 - val_loss: 0.0594 - val_accuracy: 0.9861\n",
            "Epoch 17/20\n",
            "45/45 [==============================] - 0s 8ms/step - loss: 0.0015 - accuracy: 1.0000 - val_loss: 0.0594 - val_accuracy: 0.9861\n",
            "Epoch 18/20\n",
            "45/45 [==============================] - 0s 8ms/step - loss: 0.0014 - accuracy: 1.0000 - val_loss: 0.0595 - val_accuracy: 0.9833\n",
            "Epoch 19/20\n",
            "45/45 [==============================] - 0s 8ms/step - loss: 0.0012 - accuracy: 1.0000 - val_loss: 0.0592 - val_accuracy: 0.9861\n",
            "Epoch 20/20\n",
            "45/45 [==============================] - 0s 8ms/step - loss: 0.0011 - accuracy: 1.0000 - val_loss: 0.0616 - val_accuracy: 0.9861\n"
          ]
        }
      ],
      "source": [
        "hist = model.fit(train_images, train_labels, validation_data=(test_images, test_labels), epochs=20)"
      ]
    },
    {
      "cell_type": "code",
      "execution_count": 33,
      "metadata": {
        "colab": {
          "base_uri": "https://localhost:8080/",
          "height": 295
        },
        "id": "5N0oKQZ8tsx4",
        "outputId": "6208d0f5-9405-463b-966a-65fa404308e4"
      },
      "outputs": [
        {
          "output_type": "display_data",
          "data": {
            "text/plain": [
              "<Figure size 432x288 with 1 Axes>"
            ],
            "image/png": "[encoded data removed]"
          },
          "metadata": {
            "needs_background": "light"
          }
        }
      ],
      "source": [
        "# Vizualizacija preciznosti\n",
        "plt.plot(hist.history['accuracy'])\n",
        "plt.plot(hist.history['val_accuracy'])\n",
        "plt.title(\"Model Accuracy\")\n",
        "plt.ylabel(\"Accuracy\")\n",
        "plt.xlabel('Epoch')\n",
        "plt.legend([\"Train\", \"Val\"], loc=\"upper left\")\n",
        "plt.show()"
      ]
    },
    {
      "cell_type": "code",
      "execution_count": 34,
      "metadata": {
        "colab": {
          "base_uri": "https://localhost:8080/"
        },
        "id": "jctL5RpMufHZ",
        "outputId": "98e5a606-b004-4fdf-cf5f-87587089d61c"
      },
      "outputs": [
        {
          "output_type": "execute_result",
          "data": {
            "text/plain": [
              "array([[2.11042961e-09, 2.09037996e-08, 2.95837898e-12, 8.64523669e-15,\n",
              "        1.52403157e-08, 9.32603612e-08, 9.99999404e-01, 2.02761766e-10,\n",
              "        4.91054323e-07, 1.36156378e-10],\n",
              "       [3.13821802e-10, 7.54512675e-10, 7.70314293e-15, 4.49918616e-07,\n",
              "        4.05546086e-09, 7.71068269e-04, 8.42461612e-14, 9.76574981e-08,\n",
              "        4.80358464e-09, 9.99228358e-01],\n",
              "       [5.71595576e-18, 2.39013948e-10, 7.08622536e-11, 9.99999881e-01,\n",
              "        5.35408637e-15, 2.28905894e-10, 4.02199460e-13, 5.41496359e-09,\n",
              "        3.70636144e-08, 6.47340457e-08],\n",
              "       [2.07722474e-06, 1.06350342e-06, 1.28781539e-04, 2.32606361e-08,\n",
              "        2.44255534e-06, 4.48042789e-04, 5.05817521e-09, 9.99165416e-01,\n",
              "        3.31597835e-06, 2.48856057e-04],\n",
              "       [1.52808096e-11, 4.25202167e-08, 9.99743998e-01, 1.12996655e-04,\n",
              "        1.69984996e-15, 5.80828875e-12, 9.02136144e-09, 1.27836000e-08,\n",
              "        1.42931778e-04, 2.49311038e-09],\n",
              "       [2.94303228e-11, 9.85782862e-01, 1.85405929e-03, 1.69932241e-06,\n",
              "        1.47374536e-04, 7.03456171e-04, 1.72360069e-06, 3.44261464e-09,\n",
              "        9.95880738e-03, 1.55009760e-03],\n",
              "       [8.96496627e-11, 2.21145241e-10, 1.14218465e-12, 6.48339324e-07,\n",
              "        4.66599293e-09, 9.99999166e-01, 1.58040727e-08, 1.26538113e-08,\n",
              "        6.74226968e-08, 9.27959931e-08],\n",
              "       [4.88573126e-10, 1.46670538e-06, 9.97593224e-01, 2.39291904e-03,\n",
              "        5.13380760e-09, 2.85905823e-08, 2.91823510e-12, 1.14358418e-05,\n",
              "        6.52458283e-08, 8.90430101e-07]], dtype=float32)"
            ]
          },
          "metadata": {},
          "execution_count": 34
        }
      ],
      "source": [
        "# Prikaz predikcija kao vjerojatnosti za prve 4 slike u testnom skupu\n",
        "predictions = model.predict(X_test[:8])\n",
        "predictions"
      ]
    },
    {
      "cell_type": "code",
      "execution_count": 35,
      "metadata": {
        "colab": {
          "base_uri": "https://localhost:8080/"
        },
        "id": "r1rqwgTVu7hz",
        "outputId": "5be5fe15-3a9c-4209-e61b-2e47a74e737f"
      },
      "outputs": [
        {
          "output_type": "stream",
          "name": "stdout",
          "text": [
            "[6 9 3 7 2 1 5 2]\n",
            "[6 9 3 7 2 1 5 2]\n"
          ]
        }
      ],
      "source": [
        "# Print predikcija kao oznake\n",
        "print(np.argmax(predictions, axis=1))\n",
        "# Print stvarne oznake\n",
        "print(y_test[:8])"
      ]
    },
    {
      "cell_type": "code",
      "execution_count": 36,
      "metadata": {
        "colab": {
          "base_uri": "https://localhost:8080/",
          "height": 141
        },
        "id": "rhBSDjMmvfbL",
        "outputId": "3923aa13-e237-4c0c-b0b5-47ef300f6acf"
      },
      "outputs": [
        {
          "output_type": "display_data",
          "data": {
            "text/plain": [
              "<Figure size 1440x576 with 8 Axes>"
            ],
            "image/png": "[encoded data removed]"
          },
          "metadata": {
            "needs_background": "light"
          }
        }
      ],
      "source": [
        "# Prikazat nekoliko slika i ispis pripadajućih oznakama.\n",
        "plt.figure(figsize=(20,8))\n",
        "for i in range(8):\n",
        "  plt.subplot(4,8, i +1)\n",
        "  plt.imshow(X_test[i], cmap = 'gray')\n",
        "  plt.axis('off')\n",
        "  plt.title(y_test[i])"
      ]
    },
    {
      "cell_type": "code",
      "execution_count": 37,
      "metadata": {
        "colab": {
          "base_uri": "https://localhost:8080/"
        },
        "id": "RYorbKrHmuUp",
        "outputId": "e007289d-b6a8-41db-ae4d-d8a54e6d4ef7"
      },
      "outputs": [
        {
          "output_type": "stream",
          "name": "stdout",
          "text": [
            "Predikcije: \n",
            " [6 9 3 7 2 1 5 2 5 2 1 9 4 0 4 2 3 7 8 8 4 3 9 7 5 6 3 5 6 3 4 9 1 4 4 6 9\n",
            " 4 7 6 6 9 1 3 6 1 3 0 6 5 5 1 9 5 6 0 9 0 0 1 0 4 5 2 4 5 7 0 7 5 9 5 5 4\n",
            " 7 0 4 5 5 9 9 0 2 3 8 0 6 4 4 9 1 2 8 3 5 2 9 0 4 4 4 3 5 3 1 3 5 9 4 2 7\n",
            " 7 4 4 1 9 2 7 8 7 2 6 9 4 0 7 2 7 5 8 7 5 7 7 0 6 6 4 2 8 0 9 4 6 9 9 6 9\n",
            " 0 5] \n",
            "Stvarne oznake: \n",
            " [6 9 3 7 2 1 5 2 5 2 1 9 4 0 4 2 3 7 8 8 4 3 9 7 5 6 3 5 6 3 4 9 1 4 4 6 9\n",
            " 4 7 6 6 9 1 3 6 1 3 0 6 5 5 1 9 5 6 0 9 0 0 1 0 4 5 2 4 5 7 0 7 5 9 5 5 4\n",
            " 7 0 4 5 5 9 9 0 2 3 8 0 6 4 4 9 1 2 8 3 5 2 9 0 4 4 4 3 5 3 1 3 5 9 4 2 7\n",
            " 7 4 4 1 9 2 7 8 7 2 6 9 4 0 7 2 7 5 8 7 5 7 7 0 6 6 4 2 8 0 9 4 6 9 9 6 9\n",
            " 0 3]\n"
          ]
        },
        {
          "output_type": "execute_result",
          "data": {
            "text/plain": [
              "False"
            ]
          },
          "metadata": {},
          "execution_count": 37
        }
      ],
      "source": [
        "# Predikcija na testnim podacima\n",
        "n = 150\n",
        "\n",
        "predictions = model.predict(X_test[:n])\n",
        "\n",
        "# Print predikcija kao oznake\n",
        "print(f\"Predikcije: \\n {np.argmax(predictions, axis=1)} \")\n",
        "\n",
        "# Print stvarne oznake\n",
        "print(f\"Stvarne oznake: \\n {y_test[:n]}\")\n",
        "\n",
        "(np.argmax(predictions, axis=1) == y_test[:n]).all()"
      ]
    },
    {
      "cell_type": "code",
      "source": [
        "# Prikaz prve slike i oznake skupa za treniranje\n",
        "plt.imshow(X_test[149])\n",
        "print(f\"Oznaka: {y_test[149]}\")"
      ],
      "metadata": {
        "colab": {
          "base_uri": "https://localhost:8080/",
          "height": 282
        },
        "id": "2QzRknNmQZO4",
        "outputId": "dcecc99f-fe55-48f0-bb2b-d18b46d2004c"
      },
      "execution_count": 38,
      "outputs": [
        {
          "output_type": "stream",
          "name": "stdout",
          "text": [
            "Oznaka: 3\n"
          ]
        },
        {
          "output_type": "display_data",
          "data": {
            "text/plain": [
              "<Figure size 432x288 with 1 Axes>"
            ],
            "image/png": "[encoded data removed]"
          },
          "metadata": {
            "needs_background": "light"
          }
        }
      ]
    }
  ],
  "metadata": {
    "colab": {
      "collapsed_sections": [],
      "name": "Digit Classification.ipynb",
      "provenance": []
    },
    "kernelspec": {
      "display_name": "Python 3",
      "name": "python3"
    },
    "language_info": {
      "name": "python"
    }
  },
  "nbformat": 4,
  "nbformat_minor": 0
}